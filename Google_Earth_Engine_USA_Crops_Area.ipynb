{
  "nbformat": 4,
  "nbformat_minor": 0,
  "metadata": {
    "colab": {
      "provenance": [],
      "collapsed_sections": [],
      "include_colab_link": true
    },
    "kernelspec": {
      "name": "python3",
      "display_name": "Python 3"
    }
  },
  "cells": [
    {
      "cell_type": "markdown",
      "metadata": {
        "id": "view-in-github",
        "colab_type": "text"
      },
      "source": [
        "<a href=\"https://colab.research.google.com/github/dgg32/crop_area/blob/main/Google_Earth_Engine_USA_Crops_Area.ipynb\" target=\"_parent\"><img src=\"https://colab.research.google.com/assets/colab-badge.svg\" alt=\"Open In Colab\"/></a>"
      ]
    },
    {
      "cell_type": "markdown",
      "metadata": {
        "id": "U7i55vr_aKCB"
      },
      "source": [
        "## Run me first\n",
        "\n",
        "First of all, run the following cell to initialize the API. The output will contain instructions on how to grant this notebook access to Earth Engine using your account."
      ]
    },
    {
      "cell_type": "code",
      "metadata": {
        "id": "XeFsiSp2aDL6",
        "outputId": "30bed973-a114-4660-8436-d2c9cd4e1c9b",
        "colab": {
          "base_uri": "https://localhost:8080/"
        }
      },
      "source": [
        "import ee\n",
        "\n",
        "# Trigger the authentication flow.\n",
        "ee.Authenticate()\n",
        "\n",
        "# Initialize the library.\n",
        "ee.Initialize()"
      ],
      "execution_count": 1,
      "outputs": [
        {
          "output_type": "stream",
          "name": "stdout",
          "text": [
            "To authorize access needed by Earth Engine, open the following URL in a web browser and follow the instructions. If the web browser does not start automatically, please manually browse the URL below.\n",
            "\n",
            "    https://code.earthengine.google.com/client-auth?scopes=https%3A//www.googleapis.com/auth/earthengine%20https%3A//www.googleapis.com/auth/devstorage.full_control&request_id=qjXlzqh4zHMdQ8YMEuZaw8XwpGJGn0QMznlZOt_kCvs&tc=4DbAAYadTtNwXMFgdA2oVblr10O1vDCwbr5W9_Nr_iY&cc=943p6W1P3u_J_6NHsTz9GdAhm5DpQ5E2dHmElvhCcKM\n",
            "\n",
            "The authorization workflow will generate a code, which you should paste in the box below.\n",
            "Enter verification code: 4/1ARtbsJoagDCCu8GMnfIMtHyqRJqoVUYWF6uwN1RyA5mIdizzmT_cZSjPAo4\n",
            "\n",
            "Successfully saved authorization token.\n"
          ]
        }
      ]
    },
    {
      "cell_type": "code",
      "source": [
        "\n",
        "\n",
        "areaPerPixel = ee.Image.pixelArea()\n",
        "\n",
        "\n",
        "provinces = ee.FeatureCollection(\"FAO/GAUL/2015/level2\");\n",
        "\n",
        "\n",
        "\n",
        "def calculate_area (state, target_index, target, startDate, endDate):\n",
        "    def generate_collection(feature):\n",
        "      geometry = feature.geometry();\n",
        "      \n",
        "      dataset = ee.ImageCollection('USDA/NASS/CDL').filter(ee.Filter.date(startDate, endDate)).select(\"cropland\").first()\n",
        "                  \n",
        "      o_dataset = dataset.clip(geometry);\n",
        "\n",
        "\n",
        "      image = dataset.eq(target_index).selfMask().multiply(areaPerPixel).divide(1e6).set('system:time_start', startDate);\n",
        "      \n",
        "      \n",
        "      reduce = image.select('cropland').reduceRegion(\n",
        "                                                reducer= ee.Reducer.sum(),\n",
        "                                                geometry= geometry,\n",
        "                                                scale= 30,\n",
        "                                                bestEffort= True\n",
        "                                            );\n",
        "            \n",
        "      return feature.set(target, reduce.get(\"cropland\"))\n",
        "\n",
        "    filterLevel1 = ee.Filter.eq('ADM1_NAME', state);\n",
        "    o_state = provinces.filter(filterLevel1);\n",
        "\n",
        "    corn_areas = o_state.map(generate_collection)\n",
        "\n",
        "    results = corn_areas.reduceColumns(ee.Reducer.sum(), [target])\n",
        "\n",
        "\n",
        "    return results.values([\"sum\"]).get(0)\n",
        "\n",
        "tasks = []\n",
        "\n",
        "name_list = ee.ImageCollection('USDA/NASS/CDL').select(\"cropland\").first().get(\"cropland_class_names\").getInfo()\n",
        "\n",
        "targets = [\"Corn\", \"Cotton\"]\n",
        "\n",
        "state_list = ee.List([\"Washington\", \"Wisconsin\", \"Wyoming\", \"Maine\", \"Michigan\", \"Minnesota\", \"Montana\", \"New Hampshire\",\n",
        "                      \"New York\", \"North Dakota\", \"South Dakota\", \"Vermont\", \"West Virginia\", \"Alabama\", \"Alaska\", \"Arizona\",\n",
        "                      \"Arkansas\", \"California\", \"Colorado\", \"Georgia\", \"Hawaii\", \"Idaho\", \"Illinois\", \"Indiana\", \"Iowa\", \"Kansas\",\n",
        "                      \"Kentucky\", \"Louisiana\", \"Maryland\", \"Mississippi\", \"Missouri\", \"Nebraska\", \"Nevada\", \"New Mexico\", \"Ohio\",\n",
        "                      \"Oklahoma\", \"Oregon\", \"Pennsylvania\", \"Tennessee\", \"Texas\", \"Utah\", \"Virginia\", \"Connecticut\", \"Delaware\",\n",
        "                      \"District of Columbia\", \"Florida\", \"Massachusetts\", \"New Jersey\", \"North Carolina\", \"Rhode Island\", \"South Carolina\"])\n",
        "\n",
        "for target in targets:\n",
        "    for year in range(2001, 2022):\n",
        "        startDate = f'{year}-01-01'\n",
        "        endDate = ee.Date(startDate).advance(1, \"year\")\n",
        "\n",
        "        target_index = name_list.index(target) + 1;\n",
        "\n",
        "        results = state_list.map(lambda state: calculate_area(state, target_index, target, startDate, endDate)).reduce(ee.Reducer.sum())\n",
        "\n",
        "\n",
        "        task = ee.batch.Export.table.toDrive(collection=ee.FeatureCollection([ee.Feature(None, {\"time\": startDate, target: results})]),\n",
        "                                        description=f'{target}_{startDate}_python_crop',\n",
        "                                        folder='crop_1',\n",
        "                                        fileFormat='CSV')\n",
        "        task.start()\n",
        "\n",
        "        tasks.append(task)\n"
      ],
      "metadata": {
        "id": "5RZjyiF3XHnz"
      },
      "execution_count": 35,
      "outputs": []
    },
    {
      "cell_type": "code",
      "source": [
        "for task in tasks:\n",
        "    print (task.status())\n",
        "    #task.cancel()"
      ],
      "metadata": {
        "id": "s5E7Tnw4nQb6",
        "colab": {
          "base_uri": "https://localhost:8080/"
        },
        "outputId": "6f088717-0bda-483f-aa58-3f304f8ae53e"
      },
      "execution_count": 44,
      "outputs": [
        {
          "output_type": "stream",
          "name": "stdout",
          "text": [
            "{'state': 'COMPLETED', 'description': 'Corn_2001-01-01_python_crop', 'creation_timestamp_ms': 1664201320597, 'update_timestamp_ms': 1664201619792, 'start_timestamp_ms': 1664201374807, 'task_type': 'EXPORT_FEATURES', 'destination_uris': ['https://drive.google.com/#folders/1On6UQ-mAGIelyG--sQJfdWQO54nQQ6ng'], 'attempt': 1, 'batch_eecu_usage_seconds': 12686.3134765625, 'id': 'VPPZUY645X3JTZ34GDX4RLA5', 'name': 'projects/earthengine-legacy/operations/VPPZUY645X3JTZ34GDX4RLA5'}\n",
            "{'state': 'COMPLETED', 'description': 'Corn_2002-01-01_python_crop', 'creation_timestamp_ms': 1664201320876, 'update_timestamp_ms': 1664201770154, 'start_timestamp_ms': 1664201398310, 'task_type': 'EXPORT_FEATURES', 'destination_uris': ['https://drive.google.com/#folders/1On6UQ-mAGIelyG--sQJfdWQO54nQQ6ng'], 'attempt': 1, 'batch_eecu_usage_seconds': 15225.9736328125, 'id': 'J2YSSMVXUUMTW5PVRKIKCOEQ', 'name': 'projects/earthengine-legacy/operations/J2YSSMVXUUMTW5PVRKIKCOEQ'}\n",
            "{'state': 'COMPLETED', 'description': 'Corn_2003-01-01_python_crop', 'creation_timestamp_ms': 1664201321133, 'update_timestamp_ms': 1664201739288, 'start_timestamp_ms': 1664201447330, 'task_type': 'EXPORT_FEATURES', 'destination_uris': ['https://drive.google.com/#folders/1On6UQ-mAGIelyG--sQJfdWQO54nQQ6ng'], 'attempt': 1, 'batch_eecu_usage_seconds': 11333.66796875, 'id': 'LCCYIQKEOLKSV42T6W7APL46', 'name': 'projects/earthengine-legacy/operations/LCCYIQKEOLKSV42T6W7APL46'}\n",
            "{'state': 'COMPLETED', 'description': 'Corn_2004-01-01_python_crop', 'creation_timestamp_ms': 1664201321416, 'update_timestamp_ms': 1664202044297, 'start_timestamp_ms': 1664201629333, 'task_type': 'EXPORT_FEATURES', 'destination_uris': ['https://drive.google.com/#folders/1On6UQ-mAGIelyG--sQJfdWQO54nQQ6ng'], 'attempt': 1, 'batch_eecu_usage_seconds': 18685.912109375, 'id': 'H7T3UZUZCVT33ZQG4PDJEQNS', 'name': 'projects/earthengine-legacy/operations/H7T3UZUZCVT33ZQG4PDJEQNS'}\n",
            "{'state': 'COMPLETED', 'description': 'Corn_2005-01-01_python_crop', 'creation_timestamp_ms': 1664201321714, 'update_timestamp_ms': 1664202083835, 'start_timestamp_ms': 1664201766970, 'task_type': 'EXPORT_FEATURES', 'destination_uris': ['https://drive.google.com/#folders/1On6UQ-mAGIelyG--sQJfdWQO54nQQ6ng'], 'attempt': 1, 'batch_eecu_usage_seconds': 17843.54296875, 'id': 'VPRPRCLY4Q2GMV3FJCRD7ACF', 'name': 'projects/earthengine-legacy/operations/VPRPRCLY4Q2GMV3FJCRD7ACF'}\n",
            "{'state': 'COMPLETED', 'description': 'Corn_2006-01-01_python_crop', 'creation_timestamp_ms': 1664201321982, 'update_timestamp_ms': 1664202182124, 'start_timestamp_ms': 1664201804591, 'task_type': 'EXPORT_FEATURES', 'destination_uris': ['https://drive.google.com/#folders/1On6UQ-mAGIelyG--sQJfdWQO54nQQ6ng'], 'attempt': 1, 'batch_eecu_usage_seconds': 21312.27734375, 'id': '5ZN26EAPMM5VQ7POOXVRXCEV', 'name': 'projects/earthengine-legacy/operations/5ZN26EAPMM5VQ7POOXVRXCEV'}\n",
            "{'state': 'COMPLETED', 'description': 'Corn_2007-01-01_python_crop', 'creation_timestamp_ms': 1664201322295, 'update_timestamp_ms': 1664202376543, 'start_timestamp_ms': 1664202059557, 'task_type': 'EXPORT_FEATURES', 'destination_uris': ['https://drive.google.com/#folders/1On6UQ-mAGIelyG--sQJfdWQO54nQQ6ng'], 'attempt': 1, 'batch_eecu_usage_seconds': 21056.7890625, 'id': 'Y6FDQC6WFNIC2K6AJ6EQ6ZUS', 'name': 'projects/earthengine-legacy/operations/Y6FDQC6WFNIC2K6AJ6EQ6ZUS'}\n",
            "{'state': 'COMPLETED', 'description': 'Corn_2008-01-01_python_crop', 'creation_timestamp_ms': 1664201322546, 'update_timestamp_ms': 1664202574867, 'start_timestamp_ms': 1664202093233, 'task_type': 'EXPORT_FEATURES', 'destination_uris': ['https://drive.google.com/#folders/1On6UQ-mAGIelyG--sQJfdWQO54nQQ6ng'], 'attempt': 1, 'batch_eecu_usage_seconds': 32401.888671875, 'id': 'GFKD33Z7DS2L3WHVQT3N6FNG', 'name': 'projects/earthengine-legacy/operations/GFKD33Z7DS2L3WHVQT3N6FNG'}\n",
            "{'state': 'COMPLETED', 'description': 'Corn_2009-01-01_python_crop', 'creation_timestamp_ms': 1664201322802, 'update_timestamp_ms': 1664202708986, 'start_timestamp_ms': 1664202194663, 'task_type': 'EXPORT_FEATURES', 'destination_uris': ['https://drive.google.com/#folders/1On6UQ-mAGIelyG--sQJfdWQO54nQQ6ng'], 'attempt': 1, 'batch_eecu_usage_seconds': 28890.85546875, 'id': 'RRUXBPW6EBYXNWIQIMKC4GQB', 'name': 'projects/earthengine-legacy/operations/RRUXBPW6EBYXNWIQIMKC4GQB'}\n",
            "{'state': 'COMPLETED', 'description': 'Corn_2010-01-01_python_crop', 'creation_timestamp_ms': 1664201323108, 'update_timestamp_ms': 1664202839611, 'start_timestamp_ms': 1664202397341, 'task_type': 'EXPORT_FEATURES', 'destination_uris': ['https://drive.google.com/#folders/1On6UQ-mAGIelyG--sQJfdWQO54nQQ6ng'], 'attempt': 1, 'batch_eecu_usage_seconds': 26283.576171875, 'id': 'MI7KFQNMAFYZKHSHCAU6XP76', 'name': 'projects/earthengine-legacy/operations/MI7KFQNMAFYZKHSHCAU6XP76'}\n",
            "{'state': 'COMPLETED', 'description': 'Corn_2011-01-01_python_crop', 'creation_timestamp_ms': 1664201323381, 'update_timestamp_ms': 1664202995619, 'start_timestamp_ms': 1664202589523, 'task_type': 'EXPORT_FEATURES', 'destination_uris': ['https://drive.google.com/#folders/1On6UQ-mAGIelyG--sQJfdWQO54nQQ6ng'], 'attempt': 1, 'batch_eecu_usage_seconds': 26418.466796875, 'id': 'FKWDNMPP62E53VKC5TMUUGC5', 'name': 'projects/earthengine-legacy/operations/FKWDNMPP62E53VKC5TMUUGC5'}\n",
            "{'state': 'COMPLETED', 'description': 'Corn_2012-01-01_python_crop', 'creation_timestamp_ms': 1664201323656, 'update_timestamp_ms': 1664203168748, 'start_timestamp_ms': 1664202714461, 'task_type': 'EXPORT_FEATURES', 'destination_uris': ['https://drive.google.com/#folders/1On6UQ-mAGIelyG--sQJfdWQO54nQQ6ng'], 'attempt': 1, 'batch_eecu_usage_seconds': 27570.044921875, 'id': 'OENMVVZOUIKDPBS46UKXQUMX', 'name': 'projects/earthengine-legacy/operations/OENMVVZOUIKDPBS46UKXQUMX'}\n",
            "{'state': 'COMPLETED', 'description': 'Corn_2013-01-01_python_crop', 'creation_timestamp_ms': 1664201323945, 'update_timestamp_ms': 1664203278927, 'start_timestamp_ms': 1664202846655, 'task_type': 'EXPORT_FEATURES', 'destination_uris': ['https://drive.google.com/#folders/1On6UQ-mAGIelyG--sQJfdWQO54nQQ6ng'], 'attempt': 1, 'batch_eecu_usage_seconds': 26541.87890625, 'id': 'JBWP2XF2QBUZGA4W5R5T4MQO', 'name': 'projects/earthengine-legacy/operations/JBWP2XF2QBUZGA4W5R5T4MQO'}\n",
            "{'state': 'COMPLETED', 'description': 'Corn_2014-01-01_python_crop', 'creation_timestamp_ms': 1664201324223, 'update_timestamp_ms': 1664203456716, 'start_timestamp_ms': 1664203007798, 'task_type': 'EXPORT_FEATURES', 'destination_uris': ['https://drive.google.com/#folders/1On6UQ-mAGIelyG--sQJfdWQO54nQQ6ng'], 'attempt': 1, 'batch_eecu_usage_seconds': 27616.515625, 'id': '5PXV3R2Z3KJ4MX4PMMW47YEU', 'name': 'projects/earthengine-legacy/operations/5PXV3R2Z3KJ4MX4PMMW47YEU'}\n",
            "{'state': 'COMPLETED', 'description': 'Corn_2015-01-01_python_crop', 'creation_timestamp_ms': 1664201324518, 'update_timestamp_ms': 1664203319876, 'start_timestamp_ms': 1664203215697, 'task_type': 'EXPORT_FEATURES', 'destination_uris': ['https://drive.google.com/#folders/1On6UQ-mAGIelyG--sQJfdWQO54nQQ6ng'], 'attempt': 1, 'batch_eecu_usage_seconds': 42.74345016479492, 'id': 'IOVLYDAAJMX45N32UIQIUHVI', 'name': 'projects/earthengine-legacy/operations/IOVLYDAAJMX45N32UIQIUHVI'}\n",
            "{'state': 'COMPLETED', 'description': 'Corn_2016-01-01_python_crop', 'creation_timestamp_ms': 1664201324794, 'update_timestamp_ms': 1664203381862, 'start_timestamp_ms': 1664203289986, 'task_type': 'EXPORT_FEATURES', 'destination_uris': ['https://drive.google.com/#folders/1On6UQ-mAGIelyG--sQJfdWQO54nQQ6ng'], 'attempt': 1, 'batch_eecu_usage_seconds': 38.88071823120117, 'id': 'LTEDRFV2Y4RLRXPXWYZF2LZY', 'name': 'projects/earthengine-legacy/operations/LTEDRFV2Y4RLRXPXWYZF2LZY'}\n",
            "{'state': 'COMPLETED', 'description': 'Corn_2017-01-01_python_crop', 'creation_timestamp_ms': 1664201325056, 'update_timestamp_ms': 1664203450436, 'start_timestamp_ms': 1664203359459, 'task_type': 'EXPORT_FEATURES', 'destination_uris': ['https://drive.google.com/#folders/1On6UQ-mAGIelyG--sQJfdWQO54nQQ6ng'], 'attempt': 1, 'batch_eecu_usage_seconds': 38.150115966796875, 'id': 'YXC2DL2UGM3LWWTUAFLXTSXX', 'name': 'projects/earthengine-legacy/operations/YXC2DL2UGM3LWWTUAFLXTSXX'}\n",
            "{'state': 'COMPLETED', 'description': 'Corn_2018-01-01_python_crop', 'creation_timestamp_ms': 1664201325332, 'update_timestamp_ms': 1664203494853, 'start_timestamp_ms': 1664203398057, 'task_type': 'EXPORT_FEATURES', 'destination_uris': ['https://drive.google.com/#folders/1On6UQ-mAGIelyG--sQJfdWQO54nQQ6ng'], 'attempt': 1, 'batch_eecu_usage_seconds': 39.09127426147461, 'id': 'AWCDOLE6DD44JMVYOK3736PV', 'name': 'projects/earthengine-legacy/operations/AWCDOLE6DD44JMVYOK3736PV'}\n",
            "{'state': 'COMPLETED', 'description': 'Corn_2019-01-01_python_crop', 'creation_timestamp_ms': 1664201325608, 'update_timestamp_ms': 1664203888706, 'start_timestamp_ms': 1664203797103, 'task_type': 'EXPORT_FEATURES', 'destination_uris': ['https://drive.google.com/#folders/1On6UQ-mAGIelyG--sQJfdWQO54nQQ6ng'], 'attempt': 2, 'batch_eecu_usage_seconds': 38.69964599609375, 'id': 'C7MALW3PREC5GGE2EVH7KNYV', 'name': 'projects/earthengine-legacy/operations/C7MALW3PREC5GGE2EVH7KNYV'}\n",
            "{'state': 'COMPLETED', 'description': 'Corn_2020-01-01_python_crop', 'creation_timestamp_ms': 1664201325896, 'update_timestamp_ms': 1664203608545, 'start_timestamp_ms': 1664203487622, 'task_type': 'EXPORT_FEATURES', 'destination_uris': ['https://drive.google.com/#folders/1On6UQ-mAGIelyG--sQJfdWQO54nQQ6ng'], 'attempt': 1, 'batch_eecu_usage_seconds': 513.0159301757812, 'id': 'VTHQDBCTNAS7THL2GRJLA3DW', 'name': 'projects/earthengine-legacy/operations/VTHQDBCTNAS7THL2GRJLA3DW'}\n",
            "{'state': 'COMPLETED', 'description': 'Corn_2021-01-01_python_crop', 'creation_timestamp_ms': 1664201326212, 'update_timestamp_ms': 1664203654491, 'start_timestamp_ms': 1664203520031, 'task_type': 'EXPORT_FEATURES', 'destination_uris': ['https://drive.google.com/#folders/1On6UQ-mAGIelyG--sQJfdWQO54nQQ6ng'], 'attempt': 1, 'batch_eecu_usage_seconds': 625.9922485351562, 'id': 'YWNKGRZRDGOZY5HM7CJHVDPX', 'name': 'projects/earthengine-legacy/operations/YWNKGRZRDGOZY5HM7CJHVDPX'}\n",
            "{'state': 'COMPLETED', 'description': 'Cotton_2001-01-01_python_crop', 'creation_timestamp_ms': 1664201326475, 'update_timestamp_ms': 1664203954093, 'start_timestamp_ms': 1664203643767, 'task_type': 'EXPORT_FEATURES', 'destination_uris': ['https://drive.google.com/#folders/1On6UQ-mAGIelyG--sQJfdWQO54nQQ6ng'], 'attempt': 1, 'batch_eecu_usage_seconds': 9821.6787109375, 'id': 'IG6P7XZ5E72GE4DZKDRLVWRN', 'name': 'projects/earthengine-legacy/operations/IG6P7XZ5E72GE4DZKDRLVWRN'}\n",
            "{'state': 'COMPLETED', 'description': 'Cotton_2002-01-01_python_crop', 'creation_timestamp_ms': 1664201326754, 'update_timestamp_ms': 1664203971697, 'start_timestamp_ms': 1664203679917, 'task_type': 'EXPORT_FEATURES', 'destination_uris': ['https://drive.google.com/#folders/1On6UQ-mAGIelyG--sQJfdWQO54nQQ6ng'], 'attempt': 1, 'batch_eecu_usage_seconds': 18817.638671875, 'id': '5F7K3E34W2OAI6YDKTSBHPXQ', 'name': 'projects/earthengine-legacy/operations/5F7K3E34W2OAI6YDKTSBHPXQ'}\n",
            "{'state': 'COMPLETED', 'description': 'Cotton_2003-01-01_python_crop', 'creation_timestamp_ms': 1664201327057, 'update_timestamp_ms': 1664204109430, 'start_timestamp_ms': 1664203899608, 'task_type': 'EXPORT_FEATURES', 'destination_uris': ['https://drive.google.com/#folders/1On6UQ-mAGIelyG--sQJfdWQO54nQQ6ng'], 'attempt': 1, 'batch_eecu_usage_seconds': 10554.271484375, 'id': '2PJ2ZKFYNVIMUGK5SI32J2MB', 'name': 'projects/earthengine-legacy/operations/2PJ2ZKFYNVIMUGK5SI32J2MB'}\n",
            "{'state': 'COMPLETED', 'description': 'Cotton_2004-01-01_python_crop', 'creation_timestamp_ms': 1664201327331, 'update_timestamp_ms': 1664204466689, 'start_timestamp_ms': 1664203960570, 'task_type': 'EXPORT_FEATURES', 'destination_uris': ['https://drive.google.com/#folders/1On6UQ-mAGIelyG--sQJfdWQO54nQQ6ng'], 'attempt': 1, 'batch_eecu_usage_seconds': 15642.4091796875, 'id': 'T2AH35DZOSHX5TCMEUOLJ2Z2', 'name': 'projects/earthengine-legacy/operations/T2AH35DZOSHX5TCMEUOLJ2Z2'}\n",
            "{'state': 'COMPLETED', 'description': 'Cotton_2005-01-01_python_crop', 'creation_timestamp_ms': 1664201327621, 'update_timestamp_ms': 1664204297910, 'start_timestamp_ms': 1664203980882, 'task_type': 'EXPORT_FEATURES', 'destination_uris': ['https://drive.google.com/#folders/1On6UQ-mAGIelyG--sQJfdWQO54nQQ6ng'], 'attempt': 1, 'batch_eecu_usage_seconds': 20150.837890625, 'id': 'DJUZT3BLAQIXKP3FHVJ2SGDB', 'name': 'projects/earthengine-legacy/operations/DJUZT3BLAQIXKP3FHVJ2SGDB'}\n",
            "{'state': 'COMPLETED', 'description': 'Cotton_2006-01-01_python_crop', 'creation_timestamp_ms': 1664201327898, 'update_timestamp_ms': 1664204507168, 'start_timestamp_ms': 1664204116048, 'task_type': 'EXPORT_FEATURES', 'destination_uris': ['https://drive.google.com/#folders/1On6UQ-mAGIelyG--sQJfdWQO54nQQ6ng'], 'attempt': 1, 'batch_eecu_usage_seconds': 25415.041015625, 'id': '3Z7VX4I5WS3F2Y3R62GFEEAH', 'name': 'projects/earthengine-legacy/operations/3Z7VX4I5WS3F2Y3R62GFEEAH'}\n",
            "{'state': 'COMPLETED', 'description': 'Cotton_2007-01-01_python_crop', 'creation_timestamp_ms': 1664201328204, 'update_timestamp_ms': 1664204693683, 'start_timestamp_ms': 1664204313781, 'task_type': 'EXPORT_FEATURES', 'destination_uris': ['https://drive.google.com/#folders/1On6UQ-mAGIelyG--sQJfdWQO54nQQ6ng'], 'attempt': 1, 'batch_eecu_usage_seconds': 26687.88671875, 'id': '2WBM4XNLDGI7NAFTGTW7X64K', 'name': 'projects/earthengine-legacy/operations/2WBM4XNLDGI7NAFTGTW7X64K'}\n",
            "{'state': 'COMPLETED', 'description': 'Cotton_2008-01-01_python_crop', 'creation_timestamp_ms': 1664201328472, 'update_timestamp_ms': 1664204943855, 'start_timestamp_ms': 1664204492394, 'task_type': 'EXPORT_FEATURES', 'destination_uris': ['https://drive.google.com/#folders/1On6UQ-mAGIelyG--sQJfdWQO54nQQ6ng'], 'attempt': 1, 'batch_eecu_usage_seconds': 34875.92578125, 'id': 'YYAPR5Q5ATFB2P2EMSO7WAGP', 'name': 'projects/earthengine-legacy/operations/YYAPR5Q5ATFB2P2EMSO7WAGP'}\n",
            "{'state': 'COMPLETED', 'description': 'Cotton_2009-01-01_python_crop', 'creation_timestamp_ms': 1664201328773, 'update_timestamp_ms': 1664205048946, 'start_timestamp_ms': 1664204545095, 'task_type': 'EXPORT_FEATURES', 'destination_uris': ['https://drive.google.com/#folders/1On6UQ-mAGIelyG--sQJfdWQO54nQQ6ng'], 'attempt': 1, 'batch_eecu_usage_seconds': 26539.05859375, 'id': 'VDNPHTV4OY4PX4Y34ZTSF2KB', 'name': 'projects/earthengine-legacy/operations/VDNPHTV4OY4PX4Y34ZTSF2KB'}\n",
            "{'state': 'COMPLETED', 'description': 'Cotton_2010-01-01_python_crop', 'creation_timestamp_ms': 1664201330006, 'update_timestamp_ms': 1664205107244, 'start_timestamp_ms': 1664204708807, 'task_type': 'EXPORT_FEATURES', 'destination_uris': ['https://drive.google.com/#folders/1On6UQ-mAGIelyG--sQJfdWQO54nQQ6ng'], 'attempt': 1, 'batch_eecu_usage_seconds': 27309.96875, 'id': 'ZNPEIGHWON3TYWZ53JG3BLHD', 'name': 'projects/earthengine-legacy/operations/ZNPEIGHWON3TYWZ53JG3BLHD'}\n",
            "{'state': 'COMPLETED', 'description': 'Cotton_2011-01-01_python_crop', 'creation_timestamp_ms': 1664201330277, 'update_timestamp_ms': 1664205451232, 'start_timestamp_ms': 1664204959092, 'task_type': 'EXPORT_FEATURES', 'destination_uris': ['https://drive.google.com/#folders/1On6UQ-mAGIelyG--sQJfdWQO54nQQ6ng'], 'attempt': 1, 'batch_eecu_usage_seconds': 33427.91796875, 'id': '63HQZULNWMBH2YZQTLMYFL24', 'name': 'projects/earthengine-legacy/operations/63HQZULNWMBH2YZQTLMYFL24'}\n",
            "{'state': 'COMPLETED', 'description': 'Cotton_2012-01-01_python_crop', 'creation_timestamp_ms': 1664201333212, 'update_timestamp_ms': 1664205609071, 'start_timestamp_ms': 1664205060553, 'task_type': 'EXPORT_FEATURES', 'destination_uris': ['https://drive.google.com/#folders/1On6UQ-mAGIelyG--sQJfdWQO54nQQ6ng'], 'attempt': 1, 'batch_eecu_usage_seconds': 34926.17578125, 'id': '4JT5MXV3XV7ERURLVLCTCZMB', 'name': 'projects/earthengine-legacy/operations/4JT5MXV3XV7ERURLVLCTCZMB'}\n",
            "{'state': 'COMPLETED', 'description': 'Cotton_2013-01-01_python_crop', 'creation_timestamp_ms': 1664201333490, 'update_timestamp_ms': 1664205524306, 'start_timestamp_ms': 1664205118969, 'task_type': 'EXPORT_FEATURES', 'destination_uris': ['https://drive.google.com/#folders/1On6UQ-mAGIelyG--sQJfdWQO54nQQ6ng'], 'attempt': 1, 'batch_eecu_usage_seconds': 32421.486328125, 'id': 'K6KGTENUTINPAYE33O5ZFUBM', 'name': 'projects/earthengine-legacy/operations/K6KGTENUTINPAYE33O5ZFUBM'}\n",
            "{'state': 'COMPLETED', 'description': 'Cotton_2014-01-01_python_crop', 'creation_timestamp_ms': 1664201333795, 'update_timestamp_ms': 1664205867217, 'start_timestamp_ms': 1664205466872, 'task_type': 'EXPORT_FEATURES', 'destination_uris': ['https://drive.google.com/#folders/1On6UQ-mAGIelyG--sQJfdWQO54nQQ6ng'], 'attempt': 1, 'batch_eecu_usage_seconds': 27836.443359375, 'id': 'YLN2EH5BHSAEN5L6ORHQIHGU', 'name': 'projects/earthengine-legacy/operations/YLN2EH5BHSAEN5L6ORHQIHGU'}\n",
            "{'state': 'COMPLETED', 'description': 'Cotton_2015-01-01_python_crop', 'creation_timestamp_ms': 1664201334069, 'update_timestamp_ms': 1664205774152, 'start_timestamp_ms': 1664205533114, 'task_type': 'EXPORT_FEATURES', 'destination_uris': ['https://drive.google.com/#folders/1On6UQ-mAGIelyG--sQJfdWQO54nQQ6ng'], 'attempt': 1, 'batch_eecu_usage_seconds': 4370.68701171875, 'id': '6PZOL2NRPLOQA57IEGZ6MJ2I', 'name': 'projects/earthengine-legacy/operations/6PZOL2NRPLOQA57IEGZ6MJ2I'}\n",
            "{'state': 'COMPLETED', 'description': 'Cotton_2016-01-01_python_crop', 'creation_timestamp_ms': 1664201334348, 'update_timestamp_ms': 1664206115264, 'start_timestamp_ms': 1664205616860, 'task_type': 'EXPORT_FEATURES', 'destination_uris': ['https://drive.google.com/#folders/1On6UQ-mAGIelyG--sQJfdWQO54nQQ6ng'], 'attempt': 1, 'batch_eecu_usage_seconds': 33025.48828125, 'id': 'G7IEQ4VBDK6NEVGPKNEMK6P2', 'name': 'projects/earthengine-legacy/operations/G7IEQ4VBDK6NEVGPKNEMK6P2'}\n",
            "{'state': 'COMPLETED', 'description': 'Cotton_2017-01-01_python_crop', 'creation_timestamp_ms': 1664201334647, 'update_timestamp_ms': 1664206223913, 'start_timestamp_ms': 1664205782012, 'task_type': 'EXPORT_FEATURES', 'destination_uris': ['https://drive.google.com/#folders/1On6UQ-mAGIelyG--sQJfdWQO54nQQ6ng'], 'attempt': 1, 'batch_eecu_usage_seconds': 34002.12109375, 'id': 'BOEBJVJ2WJ3VRXWCTIUCXEVY', 'name': 'projects/earthengine-legacy/operations/BOEBJVJ2WJ3VRXWCTIUCXEVY'}\n",
            "{'state': 'COMPLETED', 'description': 'Cotton_2018-01-01_python_crop', 'creation_timestamp_ms': 1664201334971, 'update_timestamp_ms': 1664206257232, 'start_timestamp_ms': 1664205879001, 'task_type': 'EXPORT_FEATURES', 'destination_uris': ['https://drive.google.com/#folders/1On6UQ-mAGIelyG--sQJfdWQO54nQQ6ng'], 'attempt': 1, 'batch_eecu_usage_seconds': 25684.7578125, 'id': 'QCO7YHF74TAUOFV6S45G3TT4', 'name': 'projects/earthengine-legacy/operations/QCO7YHF74TAUOFV6S45G3TT4'}\n",
            "{'state': 'COMPLETED', 'description': 'Cotton_2019-01-01_python_crop', 'creation_timestamp_ms': 1664201335263, 'update_timestamp_ms': 1664206572393, 'start_timestamp_ms': 1664206123909, 'task_type': 'EXPORT_FEATURES', 'destination_uris': ['https://drive.google.com/#folders/1On6UQ-mAGIelyG--sQJfdWQO54nQQ6ng'], 'attempt': 1, 'batch_eecu_usage_seconds': 28470.52734375, 'id': 'BQ4DK7PXPL7UVMBJIMRXLSLN', 'name': 'projects/earthengine-legacy/operations/BQ4DK7PXPL7UVMBJIMRXLSLN'}\n",
            "{'state': 'COMPLETED', 'description': 'Cotton_2020-01-01_python_crop', 'creation_timestamp_ms': 1664201335559, 'update_timestamp_ms': 1664206622391, 'start_timestamp_ms': 1664206229991, 'task_type': 'EXPORT_FEATURES', 'destination_uris': ['https://drive.google.com/#folders/1On6UQ-mAGIelyG--sQJfdWQO54nQQ6ng'], 'attempt': 1, 'batch_eecu_usage_seconds': 27975.44140625, 'id': 'CZK4TERS3EI67GZQB4G3DM6Z', 'name': 'projects/earthengine-legacy/operations/CZK4TERS3EI67GZQB4G3DM6Z'}\n",
            "{'state': 'COMPLETED', 'description': 'Cotton_2021-01-01_python_crop', 'creation_timestamp_ms': 1664201335838, 'update_timestamp_ms': 1664206716735, 'start_timestamp_ms': 1664206267584, 'task_type': 'EXPORT_FEATURES', 'destination_uris': ['https://drive.google.com/#folders/1On6UQ-mAGIelyG--sQJfdWQO54nQQ6ng'], 'attempt': 1, 'batch_eecu_usage_seconds': 25043.984375, 'id': 'OCELT5S6XHCF7JK6VSIU5MGB', 'name': 'projects/earthengine-legacy/operations/OCELT5S6XHCF7JK6VSIU5MGB'}\n"
          ]
        }
      ]
    },
    {
      "cell_type": "code",
      "source": [],
      "metadata": {
        "id": "zCLnvGBh_bnz"
      },
      "execution_count": 27,
      "outputs": []
    }
  ]
}