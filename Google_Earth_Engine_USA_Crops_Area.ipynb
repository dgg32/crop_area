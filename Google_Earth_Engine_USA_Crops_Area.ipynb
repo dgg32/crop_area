{
  "nbformat": 4,
  "nbformat_minor": 0,
  "metadata": {
    "colab": {
      "provenance": [],
      "collapsed_sections": [],
      "include_colab_link": true
    },
    "kernelspec": {
      "name": "python3",
      "display_name": "Python 3"
    }
  },
  "cells": [
    {
      "cell_type": "markdown",
      "metadata": {
        "id": "view-in-github",
        "colab_type": "text"
      },
      "source": [
        "<a href=\"https://colab.research.google.com/github/dgg32/crop_area/blob/main/Google_Earth_Engine_USA_Crops_Area.ipynb\" target=\"_parent\"><img src=\"https://colab.research.google.com/assets/colab-badge.svg\" alt=\"Open In Colab\"/></a>"
      ]
    },
    {
      "cell_type": "markdown",
      "metadata": {
        "id": "U7i55vr_aKCB"
      },
      "source": [
        "## Run me first\n",
        "\n",
        "First of all, run the following cell to initialize the API. The output will contain instructions on how to grant this notebook access to Earth Engine using your account."
      ]
    },
    {
      "cell_type": "code",
      "metadata": {
        "id": "XeFsiSp2aDL6",
        "outputId": "b3a3dcce-0d18-4a2d-ea64-d0dc5c172a0a",
        "colab": {
          "base_uri": "https://localhost:8080/"
        }
      },
      "source": [
        "import ee\n",
        "\n",
        "# Trigger the authentication flow.\n",
        "ee.Authenticate()\n",
        "\n",
        "# Initialize the library.\n",
        "ee.Initialize()"
      ],
      "execution_count": 12,
      "outputs": [
        {
          "output_type": "stream",
          "name": "stdout",
          "text": [
            "To authorize access needed by Earth Engine, open the following URL in a web browser and follow the instructions. If the web browser does not start automatically, please manually browse the URL below.\n",
            "\n",
            "    https://code.earthengine.google.com/client-auth?scopes=https%3A//www.googleapis.com/auth/earthengine%20https%3A//www.googleapis.com/auth/devstorage.full_control&request_id=fNmvQhVY6QDM4q-TTeLRegCfZoPdQZjkBYoQlcY3Oe4&tc=odzzIRTPDY5XiPs096rXYo0R24Vs7B94VMjuP0TmqRs&cc=8HCwqpaT474MP48U6MvMdRZ-3BMALkeXjYgGxHPM40g\n",
            "\n",
            "The authorization workflow will generate a code, which you should paste in the box below.\n",
            "Enter verification code: 4/1ARtbsJqN-RxtC25fimK0WakJXvYNTnb2MsENH8DKPvLKdtR2U5bPrLfJ1LA\n",
            "\n",
            "Successfully saved authorization token.\n"
          ]
        }
      ]
    },
    {
      "cell_type": "code",
      "source": [
        "\n",
        "\n",
        "areaPerPixel = ee.Image.pixelArea()\n",
        "\n",
        "\n",
        "provinces = ee.FeatureCollection(\"FAO/GAUL/2015/level2\");\n",
        "\n",
        "\n",
        "\n",
        "def calculate_area (state, target_index, target, startDate, endDate):\n",
        "    def generate_collection(feature):\n",
        "      geometry = feature.geometry();\n",
        "      \n",
        "      dataset = ee.ImageCollection('USDA/NASS/CDL').filter(ee.Filter.date(startDate, endDate)).select(\"cropland\").first()\n",
        "                  \n",
        "      o_dataset = dataset.clip(geometry);\n",
        "\n",
        "\n",
        "      image = dataset.eq(target_index).selfMask().multiply(areaPerPixel).divide(1e6).set('system:time_start', startDate);\n",
        "      \n",
        "      \n",
        "      reduce = image.select('cropland').reduceRegion(\n",
        "                                                reducer= ee.Reducer.sum(),\n",
        "                                                geometry= geometry,\n",
        "                                                scale= 30,\n",
        "                                                bestEffort= True\n",
        "                                            );\n",
        "            \n",
        "      return feature.set(target, reduce.get(\"cropland\"))\n",
        "\n",
        "    filterLevel1 = ee.Filter.eq('ADM1_NAME', state);\n",
        "    o_state = provinces.filter(filterLevel1);\n",
        "\n",
        "    corn_areas = o_state.map(generate_collection)\n",
        "\n",
        "    results = corn_areas.reduceColumns(ee.Reducer.sum(), [target])\n",
        "\n",
        "\n",
        "    return results.values([\"sum\"]).get(0)\n",
        "\n",
        "tasks = []\n",
        "\n",
        "name_list = ee.ImageCollection('USDA/NASS/CDL').select(\"cropland\").first().get(\"cropland_class_names\").getInfo()\n",
        "\n",
        "targets = [\"Corn\", \"Cotton\"]\n",
        "\n",
        "state_list = ee.List([\"Iowa\", \"Mississippi\"])\n",
        "\n",
        "for target in targets:\n",
        "\n",
        "    for startDate in ['2015-01-01', '2016-01-01']:\n",
        "        endDate = ee.Date(startDate).advance(1, \"year\")\n",
        "\n",
        "        target_index = name_list.index(target) + 1;\n",
        "\n",
        "        results = state_list.map(lambda state: calculate_area(state, target_index, target, startDate, endDate)).reduce(ee.Reducer.sum());\n",
        "\n",
        "\n",
        "        task = ee.batch.Export.table.toDrive(collection=ee.FeatureCollection([ee.Feature(None, {\"time\": startDate, target: results})]),\n",
        "                                        description=f'{target}_{startDate}_python_crop',\n",
        "                                        folder='crop',\n",
        "                                        fileFormat='CSV')\n",
        "        task.start()\n",
        "\n",
        "        tasks.append(task)\n"
      ],
      "metadata": {
        "id": "5RZjyiF3XHnz"
      },
      "execution_count": 79,
      "outputs": []
    },
    {
      "cell_type": "code",
      "source": [
        "for task in tasks:\n",
        "    print (task.status())"
      ],
      "metadata": {
        "id": "s5E7Tnw4nQb6",
        "colab": {
          "base_uri": "https://localhost:8080/"
        },
        "outputId": "95e5a61f-c4df-4dd0-b7af-41f78f4c19ff"
      },
      "execution_count": 83,
      "outputs": [
        {
          "output_type": "stream",
          "name": "stdout",
          "text": [
            "{'state': 'COMPLETED', 'description': 'Corn_2015-01-01_python_crop', 'creation_timestamp_ms': 1664185553153, 'update_timestamp_ms': 1664185562104, 'start_timestamp_ms': 1664185558006, 'task_type': 'EXPORT_FEATURES', 'destination_uris': ['https://drive.google.com/#folders/1Q5L2e0d_kbKjc63rMWaleJ35jJputNjr'], 'attempt': 1, 'batch_eecu_usage_seconds': 1.3087425231933594, 'id': 'PPEBEQWX2LJARGTFDKIZZPWO', 'name': 'projects/earthengine-legacy/operations/PPEBEQWX2LJARGTFDKIZZPWO'}\n",
            "{'state': 'COMPLETED', 'description': 'Corn_2016-01-01_python_crop', 'creation_timestamp_ms': 1664185553466, 'update_timestamp_ms': 1664185584341, 'start_timestamp_ms': 1664185559091, 'task_type': 'EXPORT_FEATURES', 'destination_uris': ['https://drive.google.com/#folders/1Q5L2e0d_kbKjc63rMWaleJ35jJputNjr'], 'attempt': 1, 'batch_eecu_usage_seconds': 0.9537205696105957, 'id': '4HIZR4KMPC37VMPAVG2QJDOB', 'name': 'projects/earthengine-legacy/operations/4HIZR4KMPC37VMPAVG2QJDOB'}\n",
            "{'state': 'COMPLETED', 'description': 'Cotton_2015-01-01_python_crop', 'creation_timestamp_ms': 1664185553749, 'update_timestamp_ms': 1664185616822, 'start_timestamp_ms': 1664185564424, 'task_type': 'EXPORT_FEATURES', 'destination_uris': ['https://drive.google.com/#folders/1Q5L2e0d_kbKjc63rMWaleJ35jJputNjr'], 'attempt': 1, 'batch_eecu_usage_seconds': 544.8283081054688, 'id': '2OCZ3GTWYOG2E7DXRPDCI5I3', 'name': 'projects/earthengine-legacy/operations/2OCZ3GTWYOG2E7DXRPDCI5I3'}\n",
            "{'state': 'COMPLETED', 'description': 'Cotton_2016-01-01_python_crop', 'creation_timestamp_ms': 1664185554069, 'update_timestamp_ms': 1664185624446, 'start_timestamp_ms': 1664185570172, 'task_type': 'EXPORT_FEATURES', 'destination_uris': ['https://drive.google.com/#folders/1Q5L2e0d_kbKjc63rMWaleJ35jJputNjr'], 'attempt': 1, 'batch_eecu_usage_seconds': 909.930419921875, 'id': 'UD4MK6RRKSOSFRHTHYKH2BLX', 'name': 'projects/earthengine-legacy/operations/UD4MK6RRKSOSFRHTHYKH2BLX'}\n"
          ]
        }
      ]
    },
    {
      "cell_type": "code",
      "source": [],
      "metadata": {
        "id": "ncQoeYytwtYw"
      },
      "execution_count": 73,
      "outputs": []
    }
  ]
}