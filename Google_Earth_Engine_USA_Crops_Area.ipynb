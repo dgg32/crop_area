{
  "nbformat": 4,
  "nbformat_minor": 0,
  "metadata": {
    "colab": {
      "provenance": [],
      "collapsed_sections": [],
      "include_colab_link": true
    },
    "kernelspec": {
      "name": "python3",
      "display_name": "Python 3"
    }
  },
  "cells": [
    {
      "cell_type": "markdown",
      "metadata": {
        "id": "view-in-github",
        "colab_type": "text"
      },
      "source": [
        "<a href=\"https://colab.research.google.com/github/dgg32/crop_area/blob/main/Google_Earth_Engine_USA_Crops_Area.ipynb\" target=\"_parent\"><img src=\"https://colab.research.google.com/assets/colab-badge.svg\" alt=\"Open In Colab\"/></a>"
      ]
    },
    {
      "cell_type": "markdown",
      "metadata": {
        "id": "U7i55vr_aKCB"
      },
      "source": [
        "## Run me first\n",
        "\n",
        "First of all, run the following cell to initialize the API. The output will contain instructions on how to grant this notebook access to Earth Engine using your account."
      ]
    },
    {
      "cell_type": "code",
      "source": [
        "from pathlib import Path\n",
        "import pandas as pd\n",
        "import ee"
      ],
      "metadata": {
        "id": "O1Fkn-Ekr87r"
      },
      "execution_count": null,
      "outputs": []
    },
    {
      "cell_type": "code",
      "metadata": {
        "id": "XeFsiSp2aDL6"
      },
      "source": [
        "\n",
        "# Trigger the authentication flow.\n",
        "ee.Authenticate()\n",
        "\n",
        "# Initialize the library.\n",
        "ee.Initialize()"
      ],
      "execution_count": null,
      "outputs": []
    },
    {
      "cell_type": "code",
      "source": [
        "g_drive_folder = \"crop_1e10_post_2008\""
      ],
      "metadata": {
        "id": "T21yPk5lqbSc"
      },
      "execution_count": null,
      "outputs": []
    },
    {
      "cell_type": "code",
      "source": [
        "areaPerPixel = ee.Image.pixelArea()\n",
        "\n",
        "provinces = ee.FeatureCollection(\"FAO/GAUL/2015/level2\");\n",
        "\n",
        "def calculate_area (state, crop_index, crop, startDate, endDate):\n",
        "    def generate_collection(feature):\n",
        "      geometry = feature.geometry()\n",
        "      \n",
        "      dataset = ee.ImageCollection('USDA/NASS/CDL').filter(ee.Filter.date(startDate, endDate)).select(\"cropland\").first()\n",
        "                  \n",
        "      o_dataset = dataset.clip(geometry)\n",
        "\n",
        "\n",
        "      image = dataset.eq(crop_index).selfMask().multiply(areaPerPixel).divide(1e6).set('system:time_start', startDate)\n",
        "      \n",
        "      \n",
        "      reduce = image.select('cropland').reduceRegion(\n",
        "                                                reducer= ee.Reducer.sum(),\n",
        "                                                geometry= geometry,\n",
        "                                                scale= 30,\n",
        "                                                maxPixels = 1e10\n",
        "                                                #bestEffort= True\n",
        "                                            )\n",
        "            \n",
        "      return feature.set(crop, reduce.get(\"cropland\"))\n",
        "\n",
        "    filterLevel1 = ee.Filter.eq('ADM1_NAME', state)\n",
        "    o_state = provinces.filter(filterLevel1)\n",
        "\n",
        "    corn_areas = o_state.map(generate_collection)\n",
        "\n",
        "    results = corn_areas.reduceColumns(ee.Reducer.sum(), [crop])\n",
        "\n",
        "\n",
        "    return results.values([\"sum\"]).get(0)\n",
        "\n",
        "tasks = []\n",
        "\n",
        "name_list = ee.ImageCollection('USDA/NASS/CDL').select(\"cropland\").first().get(\"cropland_class_names\").getInfo()\n",
        "\n",
        "\n",
        "crops = [\"Corn\", \"Cotton\", \"Soybeans\"]\n",
        "\n",
        "#states got from my state script\n",
        "state_list = ee.List([\"Washington\", \"Wisconsin\", \"Wyoming\", \"Maine\", \"Michigan\", \"Minnesota\", \"Montana\", \"New Hampshire\",\n",
        "                      \"New York\", \"North Dakota\", \"South Dakota\", \"Vermont\", \"West Virginia\", \"Alabama\", \"Alaska\", \"Arizona\",\n",
        "                      \"Arkansas\", \"California\", \"Colorado\", \"Georgia\", \"Hawaii\", \"Idaho\", \"Illinois\", \"Indiana\", \"Iowa\", \"Kansas\",\n",
        "                      \"Kentucky\", \"Louisiana\", \"Maryland\", \"Mississippi\", \"Missouri\", \"Nebraska\", \"Nevada\", \"New Mexico\", \"Ohio\",\n",
        "                      \"Oklahoma\", \"Oregon\", \"Pennsylvania\", \"Tennessee\", \"Texas\", \"Utah\", \"Virginia\", \"Connecticut\", \"Delaware\",\n",
        "                      \"District of Columbia\", \"Florida\", \"Massachusetts\", \"New Jersey\", \"North Carolina\", \"Rhode Island\", \"South Carolina\"])\n",
        "\n",
        "for crop in crops:\n",
        "    ###Before 2008, the CDL didnot cover the whole usa\n",
        "    for year in range(2008, 2022):\n",
        "        startDate = f'{year}-01-01'\n",
        "        endDate = ee.Date(startDate).advance(1, \"year\")\n",
        "\n",
        "        crop_index = name_list.index(crop) + 1\n",
        "\n",
        "        results = state_list.map(lambda state: calculate_area(state, crop_index, crop, startDate, endDate)).reduce(ee.Reducer.sum())\n",
        "\n",
        "\n",
        "        task = ee.batch.Export.table.toDrive(collection=ee.FeatureCollection([ee.Feature(None, {\"time\": startDate, \"crop\": crop, \"area\": results})]),\n",
        "                                        description=f'{crop}_{startDate}_python_crop',\n",
        "                                        folder=g_drive_folder,\n",
        "                                        fileFormat='CSV')\n",
        "        task.start()\n",
        "\n",
        "        tasks.append(task)\n"
      ],
      "metadata": {
        "id": "5RZjyiF3XHnz"
      },
      "execution_count": null,
      "outputs": []
    },
    {
      "cell_type": "code",
      "source": [
        "for task in tasks:\n",
        "    print (task.status())\n",
        "    #task.cancel()"
      ],
      "metadata": {
        "id": "s5E7Tnw4nQb6"
      },
      "execution_count": null,
      "outputs": []
    },
    {
      "cell_type": "code",
      "source": [
        "from google.colab import drive\n",
        "\n",
        "drive.mount('/content/gdrive/', force_remount=True)\n",
        "\n"
      ],
      "metadata": {
        "id": "zCLnvGBh_bnz",
        "outputId": "18fd2273-190e-46c3-c098-d02173a7e9e8",
        "colab": {
          "base_uri": "https://localhost:8080/"
        }
      },
      "execution_count": null,
      "outputs": [
        {
          "output_type": "stream",
          "name": "stdout",
          "text": [
            "Mounted at /content/gdrive/\n"
          ]
        }
      ]
    },
    {
      "cell_type": "code",
      "source": [
        "\n",
        "pathlist = Path(f\"gdrive/MyDrive/{g_drive_folder}\").glob('*.csv')\n",
        "\n",
        "rows_list = []\n",
        "\n",
        "for file in pathlist:\n",
        "    headers = []\n",
        "    for line in open(file, 'r'):\n",
        "        \n",
        "        if len(headers) == 0:\n",
        "            headers = line.strip().split(\",\")\n",
        "        else:\n",
        "            temp_dict = {}\n",
        "            fields = line.strip().split(\",\")\n",
        "            for header, cell in zip(headers, fields):\n",
        "                if header != \"system:index\" and header != \".geo\":\n",
        "                    temp_dict[header] = cell\n",
        "            rows_list.append(temp_dict)\n",
        "\n",
        "df = pd.DataFrame(rows_list)\n",
        "\n",
        "df.head()"
      ],
      "metadata": {
        "id": "0TI6B815qBXQ",
        "outputId": "8ca40d5a-2956-42ee-f660-99d98b94db64",
        "colab": {
          "base_uri": "https://localhost:8080/",
          "height": 206
        }
      },
      "execution_count": null,
      "outputs": [
        {
          "output_type": "execute_result",
          "data": {
            "text/plain": [
              "                 area  crop        time\n",
              "0  384368.01053341443  Corn  2012-01-01\n",
              "1   341347.7255545258  Corn  2009-01-01\n",
              "2   376609.3646369319  Corn  2013-01-01\n",
              "3   351462.3076486588  Corn  2010-01-01\n",
              "4   368034.9293616259  Corn  2011-01-01"
            ],
            "text/html": [
              "\n",
              "  <div id=\"df-3afc032d-5826-425a-b453-74a4afbfc50a\">\n",
              "    <div class=\"colab-df-container\">\n",
              "      <div>\n",
              "<style scoped>\n",
              "    .dataframe tbody tr th:only-of-type {\n",
              "        vertical-align: middle;\n",
              "    }\n",
              "\n",
              "    .dataframe tbody tr th {\n",
              "        vertical-align: top;\n",
              "    }\n",
              "\n",
              "    .dataframe thead th {\n",
              "        text-align: right;\n",
              "    }\n",
              "</style>\n",
              "<table border=\"1\" class=\"dataframe\">\n",
              "  <thead>\n",
              "    <tr style=\"text-align: right;\">\n",
              "      <th></th>\n",
              "      <th>area</th>\n",
              "      <th>crop</th>\n",
              "      <th>time</th>\n",
              "    </tr>\n",
              "  </thead>\n",
              "  <tbody>\n",
              "    <tr>\n",
              "      <th>0</th>\n",
              "      <td>384368.01053341443</td>\n",
              "      <td>Corn</td>\n",
              "      <td>2012-01-01</td>\n",
              "    </tr>\n",
              "    <tr>\n",
              "      <th>1</th>\n",
              "      <td>341347.7255545258</td>\n",
              "      <td>Corn</td>\n",
              "      <td>2009-01-01</td>\n",
              "    </tr>\n",
              "    <tr>\n",
              "      <th>2</th>\n",
              "      <td>376609.3646369319</td>\n",
              "      <td>Corn</td>\n",
              "      <td>2013-01-01</td>\n",
              "    </tr>\n",
              "    <tr>\n",
              "      <th>3</th>\n",
              "      <td>351462.3076486588</td>\n",
              "      <td>Corn</td>\n",
              "      <td>2010-01-01</td>\n",
              "    </tr>\n",
              "    <tr>\n",
              "      <th>4</th>\n",
              "      <td>368034.9293616259</td>\n",
              "      <td>Corn</td>\n",
              "      <td>2011-01-01</td>\n",
              "    </tr>\n",
              "  </tbody>\n",
              "</table>\n",
              "</div>\n",
              "      <button class=\"colab-df-convert\" onclick=\"convertToInteractive('df-3afc032d-5826-425a-b453-74a4afbfc50a')\"\n",
              "              title=\"Convert this dataframe to an interactive table.\"\n",
              "              style=\"display:none;\">\n",
              "        \n",
              "  <svg xmlns=\"http://www.w3.org/2000/svg\" height=\"24px\"viewBox=\"0 0 24 24\"\n",
              "       width=\"24px\">\n",
              "    <path d=\"M0 0h24v24H0V0z\" fill=\"none\"/>\n",
              "    <path d=\"M18.56 5.44l.94 2.06.94-2.06 2.06-.94-2.06-.94-.94-2.06-.94 2.06-2.06.94zm-11 1L8.5 8.5l.94-2.06 2.06-.94-2.06-.94L8.5 2.5l-.94 2.06-2.06.94zm10 10l.94 2.06.94-2.06 2.06-.94-2.06-.94-.94-2.06-.94 2.06-2.06.94z\"/><path d=\"M17.41 7.96l-1.37-1.37c-.4-.4-.92-.59-1.43-.59-.52 0-1.04.2-1.43.59L10.3 9.45l-7.72 7.72c-.78.78-.78 2.05 0 2.83L4 21.41c.39.39.9.59 1.41.59.51 0 1.02-.2 1.41-.59l7.78-7.78 2.81-2.81c.8-.78.8-2.07 0-2.86zM5.41 20L4 18.59l7.72-7.72 1.47 1.35L5.41 20z\"/>\n",
              "  </svg>\n",
              "      </button>\n",
              "      \n",
              "  <style>\n",
              "    .colab-df-container {\n",
              "      display:flex;\n",
              "      flex-wrap:wrap;\n",
              "      gap: 12px;\n",
              "    }\n",
              "\n",
              "    .colab-df-convert {\n",
              "      background-color: #E8F0FE;\n",
              "      border: none;\n",
              "      border-radius: 50%;\n",
              "      cursor: pointer;\n",
              "      display: none;\n",
              "      fill: #1967D2;\n",
              "      height: 32px;\n",
              "      padding: 0 0 0 0;\n",
              "      width: 32px;\n",
              "    }\n",
              "\n",
              "    .colab-df-convert:hover {\n",
              "      background-color: #E2EBFA;\n",
              "      box-shadow: 0px 1px 2px rgba(60, 64, 67, 0.3), 0px 1px 3px 1px rgba(60, 64, 67, 0.15);\n",
              "      fill: #174EA6;\n",
              "    }\n",
              "\n",
              "    [theme=dark] .colab-df-convert {\n",
              "      background-color: #3B4455;\n",
              "      fill: #D2E3FC;\n",
              "    }\n",
              "\n",
              "    [theme=dark] .colab-df-convert:hover {\n",
              "      background-color: #434B5C;\n",
              "      box-shadow: 0px 1px 3px 1px rgba(0, 0, 0, 0.15);\n",
              "      filter: drop-shadow(0px 1px 2px rgba(0, 0, 0, 0.3));\n",
              "      fill: #FFFFFF;\n",
              "    }\n",
              "  </style>\n",
              "\n",
              "      <script>\n",
              "        const buttonEl =\n",
              "          document.querySelector('#df-3afc032d-5826-425a-b453-74a4afbfc50a button.colab-df-convert');\n",
              "        buttonEl.style.display =\n",
              "          google.colab.kernel.accessAllowed ? 'block' : 'none';\n",
              "\n",
              "        async function convertToInteractive(key) {\n",
              "          const element = document.querySelector('#df-3afc032d-5826-425a-b453-74a4afbfc50a');\n",
              "          const dataTable =\n",
              "            await google.colab.kernel.invokeFunction('convertToInteractive',\n",
              "                                                     [key], {});\n",
              "          if (!dataTable) return;\n",
              "\n",
              "          const docLinkHtml = 'Like what you see? Visit the ' +\n",
              "            '<a target=\"_blank\" href=https://colab.research.google.com/notebooks/data_table.ipynb>data table notebook</a>'\n",
              "            + ' to learn more about interactive tables.';\n",
              "          element.innerHTML = '';\n",
              "          dataTable['output_type'] = 'display_data';\n",
              "          await google.colab.output.renderOutput(dataTable, element);\n",
              "          const docLink = document.createElement('div');\n",
              "          docLink.innerHTML = docLinkHtml;\n",
              "          element.appendChild(docLink);\n",
              "        }\n",
              "      </script>\n",
              "    </div>\n",
              "  </div>\n",
              "  "
            ]
          },
          "metadata": {},
          "execution_count": 14
        }
      ]
    },
    {
      "cell_type": "code",
      "source": [
        "df[\"time\"] = pd.to_datetime(df[\"time\"], format='%Y-%m-%d')\n",
        "df.sort_values(['crop', 'time'], inplace=True)\n",
        "df.to_csv(\"crop_area.tsv\", sep=\"\\t\", index=False)"
      ],
      "metadata": {
        "id": "5oSalxQ6ucyr"
      },
      "execution_count": null,
      "outputs": []
    },
    {
      "cell_type": "code",
      "source": [],
      "metadata": {
        "id": "97DWIky24BA0"
      },
      "execution_count": null,
      "outputs": []
    }
  ]
}