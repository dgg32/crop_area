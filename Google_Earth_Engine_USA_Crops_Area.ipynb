{
  "nbformat": 4,
  "nbformat_minor": 0,
  "metadata": {
    "colab": {
      "provenance": [],
      "collapsed_sections": [],
      "include_colab_link": true
    },
    "kernelspec": {
      "name": "python3",
      "display_name": "Python 3"
    }
  },
  "cells": [
    {
      "cell_type": "markdown",
      "metadata": {
        "id": "view-in-github",
        "colab_type": "text"
      },
      "source": [
        "<a href=\"https://colab.research.google.com/github/dgg32/crop_area/blob/main/Google_Earth_Engine_USA_Crops_Area.ipynb\" target=\"_parent\"><img src=\"https://colab.research.google.com/assets/colab-badge.svg\" alt=\"Open In Colab\"/></a>"
      ]
    },
    {
      "cell_type": "markdown",
      "metadata": {
        "id": "U7i55vr_aKCB"
      },
      "source": [
        "## Run me first\n",
        "\n",
        "First of all, run the following cell to initialize the API. The output will contain instructions on how to grant this notebook access to Earth Engine using your account."
      ]
    },
    {
      "cell_type": "code",
      "source": [
        "from pathlib import Path\n",
        "import pandas as pd\n",
        "import ee"
      ],
      "metadata": {
        "id": "O1Fkn-Ekr87r"
      },
      "execution_count": 1,
      "outputs": []
    },
    {
      "cell_type": "code",
      "metadata": {
        "id": "XeFsiSp2aDL6",
        "outputId": "8f4e5123-0cf5-4efc-b129-c3303988b68a",
        "colab": {
          "base_uri": "https://localhost:8080/"
        }
      },
      "source": [
        "\n",
        "# Trigger the authentication flow.\n",
        "ee.Authenticate()\n",
        "\n",
        "# Initialize the library.\n",
        "ee.Initialize()"
      ],
      "execution_count": null,
      "outputs": [
        {
          "output_type": "stream",
          "name": "stdout",
          "text": [
            "To authorize access needed by Earth Engine, open the following URL in a web browser and follow the instructions. If the web browser does not start automatically, please manually browse the URL below.\n",
            "\n",
            "    https://code.earthengine.google.com/client-auth?scopes=https%3A//www.googleapis.com/auth/earthengine%20https%3A//www.googleapis.com/auth/devstorage.full_control&request_id=k5AyvEpNs0jxyd6mZZfj-FeMvt0UZxQVt00OwzfHLDY&tc=LdQ0BQAy9V97vyB7bwlEGMaLuFygoW4wt7mpTAQijFg&cc=Wf5MOitVLiOAgp6kd_2ev2krN0koUEW_GKoy4H-58eE\n",
            "\n",
            "The authorization workflow will generate a code, which you should paste in the box below.\n",
            "Enter verification code: 4/1ARtbsJq_bewhqMnYtyb5T6aWVaJKHcbY9Zz92dJi---IrkztlpIkAxk49u4\n",
            "\n",
            "Successfully saved authorization token.\n"
          ]
        }
      ]
    },
    {
      "cell_type": "code",
      "source": [
        "g_drive_folder = \"crop_1e10\""
      ],
      "metadata": {
        "id": "T21yPk5lqbSc"
      },
      "execution_count": 2,
      "outputs": []
    },
    {
      "cell_type": "code",
      "source": [
        "\n",
        "\n",
        "areaPerPixel = ee.Image.pixelArea()\n",
        "\n",
        "\n",
        "provinces = ee.FeatureCollection(\"FAO/GAUL/2015/level2\");\n",
        "\n",
        "\n",
        "\n",
        "def calculate_area (state, crop_index, crop, startDate, endDate):\n",
        "    def generate_collection(feature):\n",
        "      geometry = feature.geometry();\n",
        "      \n",
        "      dataset = ee.ImageCollection('USDA/NASS/CDL').filter(ee.Filter.date(startDate, endDate)).select(\"cropland\").first()\n",
        "                  \n",
        "      o_dataset = dataset.clip(geometry);\n",
        "\n",
        "\n",
        "      image = dataset.eq(crop_index).selfMask().multiply(areaPerPixel).divide(1e6).set('system:time_start', startDate);\n",
        "      \n",
        "      \n",
        "      reduce = image.select('cropland').reduceRegion(\n",
        "                                                reducer= ee.Reducer.sum(),\n",
        "                                                geometry= geometry,\n",
        "                                                scale= 30,\n",
        "                                                maxPixels = 1e10\n",
        "                                                #bestEffort= True\n",
        "                                            );\n",
        "            \n",
        "      return feature.set(crop, reduce.get(\"cropland\"))\n",
        "\n",
        "    filterLevel1 = ee.Filter.eq('ADM1_NAME', state);\n",
        "    o_state = provinces.filter(filterLevel1);\n",
        "\n",
        "    corn_areas = o_state.map(generate_collection)\n",
        "\n",
        "    results = corn_areas.reduceColumns(ee.Reducer.sum(), [crop])\n",
        "\n",
        "\n",
        "    return results.values([\"sum\"]).get(0)\n",
        "\n",
        "tasks = []\n",
        "\n",
        "name_list = ee.ImageCollection('USDA/NASS/CDL').select(\"cropland\").first().get(\"cropland_class_names\").getInfo()\n",
        "\n",
        "\n",
        "crops = [\"Corn\", \"Cotton\", \"Soybeans\"]\n",
        "\n",
        "state_list = ee.List([\"Washington\", \"Wisconsin\", \"Wyoming\", \"Maine\", \"Michigan\", \"Minnesota\", \"Montana\", \"New Hampshire\",\n",
        "                      \"New York\", \"North Dakota\", \"South Dakota\", \"Vermont\", \"West Virginia\", \"Alabama\", \"Alaska\", \"Arizona\",\n",
        "                      \"Arkansas\", \"California\", \"Colorado\", \"Georgia\", \"Hawaii\", \"Idaho\", \"Illinois\", \"Indiana\", \"Iowa\", \"Kansas\",\n",
        "                      \"Kentucky\", \"Louisiana\", \"Maryland\", \"Mississippi\", \"Missouri\", \"Nebraska\", \"Nevada\", \"New Mexico\", \"Ohio\",\n",
        "                      \"Oklahoma\", \"Oregon\", \"Pennsylvania\", \"Tennessee\", \"Texas\", \"Utah\", \"Virginia\", \"Connecticut\", \"Delaware\",\n",
        "                      \"District of Columbia\", \"Florida\", \"Massachusetts\", \"New Jersey\", \"North Carolina\", \"Rhode Island\", \"South Carolina\"])\n",
        "\n",
        "for crop in crops:\n",
        "    for year in range(2001, 2022):\n",
        "        startDate = f'{year}-01-01'\n",
        "        endDate = ee.Date(startDate).advance(1, \"year\")\n",
        "\n",
        "        crop_index = name_list.index(crop) + 1;\n",
        "\n",
        "        results = state_list.map(lambda state: calculate_area(state, crop_index, crop, startDate, endDate)).reduce(ee.Reducer.sum())\n",
        "\n",
        "\n",
        "        task = ee.batch.Export.table.toDrive(collection=ee.FeatureCollection([ee.Feature(None, {\"time\": startDate, \"crop\": crop, \"area\": results})]),\n",
        "                                        description=f'{crop}_{startDate}_python_crop',\n",
        "                                        folder=g_drive_folder,\n",
        "                                        fileFormat='CSV')\n",
        "        task.start()\n",
        "\n",
        "        tasks.append(task)\n"
      ],
      "metadata": {
        "id": "5RZjyiF3XHnz"
      },
      "execution_count": null,
      "outputs": []
    },
    {
      "cell_type": "code",
      "source": [
        "for task in tasks:\n",
        "    print (task.status())\n",
        "    #task.cancel()"
      ],
      "metadata": {
        "id": "s5E7Tnw4nQb6",
        "colab": {
          "base_uri": "https://localhost:8080/"
        },
        "outputId": "20cc7ffe-5deb-471f-9145-76b2bf2d942b"
      },
      "execution_count": null,
      "outputs": [
        {
          "output_type": "stream",
          "name": "stdout",
          "text": [
            "{'state': 'COMPLETED', 'description': 'Corn_2001-01-01_python_crop', 'creation_timestamp_ms': 1664330989068, 'update_timestamp_ms': 1664331082143, 'start_timestamp_ms': 1664330995002, 'task_type': 'EXPORT_FEATURES', 'destination_uris': ['https://drive.google.com/#folders/1AXwiaN7PuGTt8m7IjU3Dwib8sw7x_ZR2'], 'attempt': 1, 'batch_eecu_usage_seconds': 35.62931442260742, 'id': '5H5IY3C2CM2KW4ZLYMYVIGOX', 'name': 'projects/earthengine-legacy/operations/5H5IY3C2CM2KW4ZLYMYVIGOX'}\n",
            "{'state': 'COMPLETED', 'description': 'Corn_2002-01-01_python_crop', 'creation_timestamp_ms': 1664330989367, 'update_timestamp_ms': 1664331094460, 'start_timestamp_ms': 1664330995983, 'task_type': 'EXPORT_FEATURES', 'destination_uris': ['https://drive.google.com/#folders/1AXwiaN7PuGTt8m7IjU3Dwib8sw7x_ZR2'], 'attempt': 1, 'batch_eecu_usage_seconds': 47.38207244873047, 'id': 'SIPZONCOPDCIETSOSQSSCQYR', 'name': 'projects/earthengine-legacy/operations/SIPZONCOPDCIETSOSQSSCQYR'}\n",
            "{'state': 'COMPLETED', 'description': 'Corn_2003-01-01_python_crop', 'creation_timestamp_ms': 1664330989671, 'update_timestamp_ms': 1664331150272, 'start_timestamp_ms': 1664331041559, 'task_type': 'EXPORT_FEATURES', 'destination_uris': ['https://drive.google.com/#folders/1AXwiaN7PuGTt8m7IjU3Dwib8sw7x_ZR2'], 'attempt': 1, 'batch_eecu_usage_seconds': 43.710941314697266, 'id': 'YJSCPFSJX6NP5SRBHLYLSNSJ', 'name': 'projects/earthengine-legacy/operations/YJSCPFSJX6NP5SRBHLYLSNSJ'}\n",
            "{'state': 'COMPLETED', 'description': 'Corn_2004-01-01_python_crop', 'creation_timestamp_ms': 1664330989954, 'update_timestamp_ms': 1664331232125, 'start_timestamp_ms': 1664331126984, 'task_type': 'EXPORT_FEATURES', 'destination_uris': ['https://drive.google.com/#folders/1AXwiaN7PuGTt8m7IjU3Dwib8sw7x_ZR2'], 'attempt': 1, 'batch_eecu_usage_seconds': 49.39210510253906, 'id': 'XV3CYRS2TGLGKDRDVLX3D47W', 'name': 'projects/earthengine-legacy/operations/XV3CYRS2TGLGKDRDVLX3D47W'}\n",
            "{'state': 'COMPLETED', 'description': 'Corn_2005-01-01_python_crop', 'creation_timestamp_ms': 1664330990242, 'update_timestamp_ms': 1664331238568, 'start_timestamp_ms': 1664331130043, 'task_type': 'EXPORT_FEATURES', 'destination_uris': ['https://drive.google.com/#folders/1AXwiaN7PuGTt8m7IjU3Dwib8sw7x_ZR2'], 'attempt': 1, 'batch_eecu_usage_seconds': 48.82912826538086, 'id': '23Q5NJHM3OHBE6MIRE7B3EEI', 'name': 'projects/earthengine-legacy/operations/23Q5NJHM3OHBE6MIRE7B3EEI'}\n",
            "{'state': 'COMPLETED', 'description': 'Corn_2006-01-01_python_crop', 'creation_timestamp_ms': 1664330990512, 'update_timestamp_ms': 1664331264245, 'start_timestamp_ms': 1664331161558, 'task_type': 'EXPORT_FEATURES', 'destination_uris': ['https://drive.google.com/#folders/1AXwiaN7PuGTt8m7IjU3Dwib8sw7x_ZR2'], 'attempt': 1, 'batch_eecu_usage_seconds': 38.71457290649414, 'id': 'W2KJ456UJN7QPZZENTIIWIJ6', 'name': 'projects/earthengine-legacy/operations/W2KJ456UJN7QPZZENTIIWIJ6'}\n",
            "{'state': 'COMPLETED', 'description': 'Corn_2007-01-01_python_crop', 'creation_timestamp_ms': 1664330990826, 'update_timestamp_ms': 1664331386639, 'start_timestamp_ms': 1664331297235, 'task_type': 'EXPORT_FEATURES', 'destination_uris': ['https://drive.google.com/#folders/1AXwiaN7PuGTt8m7IjU3Dwib8sw7x_ZR2'], 'attempt': 1, 'batch_eecu_usage_seconds': 36.42647933959961, 'id': 'K3M2VJS5UAV4JPJZZ4THVL4S', 'name': 'projects/earthengine-legacy/operations/K3M2VJS5UAV4JPJZZ4THVL4S'}\n",
            "{'state': 'COMPLETED', 'description': 'Corn_2008-01-01_python_crop', 'creation_timestamp_ms': 1664330991111, 'update_timestamp_ms': 1664331421755, 'start_timestamp_ms': 1664331301607, 'task_type': 'EXPORT_FEATURES', 'destination_uris': ['https://drive.google.com/#folders/1AXwiaN7PuGTt8m7IjU3Dwib8sw7x_ZR2'], 'attempt': 1, 'batch_eecu_usage_seconds': 53.707977294921875, 'id': '3JWSKLZKZSD5OXZ3F4AGBEKG', 'name': 'projects/earthengine-legacy/operations/3JWSKLZKZSD5OXZ3F4AGBEKG'}\n",
            "{'state': 'COMPLETED', 'description': 'Corn_2009-01-01_python_crop', 'creation_timestamp_ms': 1664330991428, 'update_timestamp_ms': 1664331399817, 'start_timestamp_ms': 1664331306102, 'task_type': 'EXPORT_FEATURES', 'destination_uris': ['https://drive.google.com/#folders/1AXwiaN7PuGTt8m7IjU3Dwib8sw7x_ZR2'], 'attempt': 1, 'batch_eecu_usage_seconds': 40.388694763183594, 'id': 'Z67LWIVLJAQD5TKDIB2DW46M', 'name': 'projects/earthengine-legacy/operations/Z67LWIVLJAQD5TKDIB2DW46M'}\n",
            "{'state': 'COMPLETED', 'description': 'Corn_2010-01-01_python_crop', 'creation_timestamp_ms': 1664330991723, 'update_timestamp_ms': 1664331509887, 'start_timestamp_ms': 1664331409894, 'task_type': 'EXPORT_FEATURES', 'destination_uris': ['https://drive.google.com/#folders/1AXwiaN7PuGTt8m7IjU3Dwib8sw7x_ZR2'], 'attempt': 1, 'batch_eecu_usage_seconds': 45.208152770996094, 'id': 'ZPEYYMD2PV66ZHRK2DPID4F4', 'name': 'projects/earthengine-legacy/operations/ZPEYYMD2PV66ZHRK2DPID4F4'}\n",
            "{'state': 'COMPLETED', 'description': 'Corn_2011-01-01_python_crop', 'creation_timestamp_ms': 1664330991988, 'update_timestamp_ms': 1664331518765, 'start_timestamp_ms': 1664331437426, 'task_type': 'EXPORT_FEATURES', 'destination_uris': ['https://drive.google.com/#folders/1AXwiaN7PuGTt8m7IjU3Dwib8sw7x_ZR2'], 'attempt': 1, 'batch_eecu_usage_seconds': 35.90496826171875, 'id': 'QYWISSP2H7O2A4MWPFLDOA6M', 'name': 'projects/earthengine-legacy/operations/QYWISSP2H7O2A4MWPFLDOA6M'}\n",
            "{'state': 'COMPLETED', 'description': 'Corn_2012-01-01_python_crop', 'creation_timestamp_ms': 1664330992277, 'update_timestamp_ms': 1664331605610, 'start_timestamp_ms': 1664331509011, 'task_type': 'EXPORT_FEATURES', 'destination_uris': ['https://drive.google.com/#folders/1AXwiaN7PuGTt8m7IjU3Dwib8sw7x_ZR2'], 'attempt': 1, 'batch_eecu_usage_seconds': 45.591468811035156, 'id': 'OIHMGYRRBEHOAUQBJORYS4GL', 'name': 'projects/earthengine-legacy/operations/OIHMGYRRBEHOAUQBJORYS4GL'}\n",
            "{'state': 'COMPLETED', 'description': 'Corn_2013-01-01_python_crop', 'creation_timestamp_ms': 1664330992599, 'update_timestamp_ms': 1664331639125, 'start_timestamp_ms': 1664331523768, 'task_type': 'EXPORT_FEATURES', 'destination_uris': ['https://drive.google.com/#folders/1AXwiaN7PuGTt8m7IjU3Dwib8sw7x_ZR2'], 'attempt': 1, 'batch_eecu_usage_seconds': 51.33036422729492, 'id': 'YVKTVSAYG7NKPD5XSE24EWIN', 'name': 'projects/earthengine-legacy/operations/YVKTVSAYG7NKPD5XSE24EWIN'}\n",
            "{'state': 'COMPLETED', 'description': 'Corn_2014-01-01_python_crop', 'creation_timestamp_ms': 1664330992919, 'update_timestamp_ms': 1664331955124, 'start_timestamp_ms': 1664331844720, 'task_type': 'EXPORT_FEATURES', 'destination_uris': ['https://drive.google.com/#folders/1AXwiaN7PuGTt8m7IjU3Dwib8sw7x_ZR2'], 'attempt': 2, 'batch_eecu_usage_seconds': 52.77357482910156, 'id': 'KFD7UV3A6ASVCX3DGEG4LJ62', 'name': 'projects/earthengine-legacy/operations/KFD7UV3A6ASVCX3DGEG4LJ62'}\n",
            "{'state': 'COMPLETED', 'description': 'Corn_2015-01-01_python_crop', 'creation_timestamp_ms': 1664330993231, 'update_timestamp_ms': 1664331740752, 'start_timestamp_ms': 1664331620562, 'task_type': 'EXPORT_FEATURES', 'destination_uris': ['https://drive.google.com/#folders/1AXwiaN7PuGTt8m7IjU3Dwib8sw7x_ZR2'], 'attempt': 1, 'batch_eecu_usage_seconds': 569.7037353515625, 'id': 'DRT2MMVJHAN6HB65EXPCTKUB', 'name': 'projects/earthengine-legacy/operations/DRT2MMVJHAN6HB65EXPCTKUB'}\n",
            "{'state': 'COMPLETED', 'description': 'Corn_2016-01-01_python_crop', 'creation_timestamp_ms': 1664330993598, 'update_timestamp_ms': 1664331736191, 'start_timestamp_ms': 1664331652650, 'task_type': 'EXPORT_FEATURES', 'destination_uris': ['https://drive.google.com/#folders/1AXwiaN7PuGTt8m7IjU3Dwib8sw7x_ZR2'], 'attempt': 1, 'batch_eecu_usage_seconds': 34.05964279174805, 'id': 'EH527W37G3Z7WUYWCXEP3MZF', 'name': 'projects/earthengine-legacy/operations/EH527W37G3Z7WUYWCXEP3MZF'}\n",
            "{'state': 'COMPLETED', 'description': 'Corn_2017-01-01_python_crop', 'creation_timestamp_ms': 1664330993967, 'update_timestamp_ms': 1664331830596, 'start_timestamp_ms': 1664331747543, 'task_type': 'EXPORT_FEATURES', 'destination_uris': ['https://drive.google.com/#folders/1AXwiaN7PuGTt8m7IjU3Dwib8sw7x_ZR2'], 'attempt': 1, 'batch_eecu_usage_seconds': 34.569236755371094, 'id': 'ZLO4XQTCYMUPEEBS5BVZ4V3U', 'name': 'projects/earthengine-legacy/operations/ZLO4XQTCYMUPEEBS5BVZ4V3U'}\n",
            "{'state': 'COMPLETED', 'description': 'Corn_2018-01-01_python_crop', 'creation_timestamp_ms': 1664330994384, 'update_timestamp_ms': 1664331834298, 'start_timestamp_ms': 1664331750418, 'task_type': 'EXPORT_FEATURES', 'destination_uris': ['https://drive.google.com/#folders/1AXwiaN7PuGTt8m7IjU3Dwib8sw7x_ZR2'], 'attempt': 1, 'batch_eecu_usage_seconds': 35.11796188354492, 'id': 'IEFUZIEPTMRCH3ITHE3SOYZG', 'name': 'projects/earthengine-legacy/operations/IEFUZIEPTMRCH3ITHE3SOYZG'}\n",
            "{'state': 'COMPLETED', 'description': 'Corn_2019-01-01_python_crop', 'creation_timestamp_ms': 1664330994662, 'update_timestamp_ms': 1664331939175, 'start_timestamp_ms': 1664331846587, 'task_type': 'EXPORT_FEATURES', 'destination_uris': ['https://drive.google.com/#folders/1AXwiaN7PuGTt8m7IjU3Dwib8sw7x_ZR2'], 'attempt': 1, 'batch_eecu_usage_seconds': 39.73875045776367, 'id': '5X5ZTUJ4QQ2CRLXY7XWUJ5OU', 'name': 'projects/earthengine-legacy/operations/5X5ZTUJ4QQ2CRLXY7XWUJ5OU'}\n",
            "{'state': 'COMPLETED', 'description': 'Corn_2020-01-01_python_crop', 'creation_timestamp_ms': 1664330994958, 'update_timestamp_ms': 1664331923819, 'start_timestamp_ms': 1664331848772, 'task_type': 'EXPORT_FEATURES', 'destination_uris': ['https://drive.google.com/#folders/1AXwiaN7PuGTt8m7IjU3Dwib8sw7x_ZR2'], 'attempt': 1, 'batch_eecu_usage_seconds': 33.88758850097656, 'id': 'J5FNE4AHHVWJIQUDGPJHJERF', 'name': 'projects/earthengine-legacy/operations/J5FNE4AHHVWJIQUDGPJHJERF'}\n",
            "{'state': 'COMPLETED', 'description': 'Corn_2021-01-01_python_crop', 'creation_timestamp_ms': 1664330995292, 'update_timestamp_ms': 1664332036836, 'start_timestamp_ms': 1664331937057, 'task_type': 'EXPORT_FEATURES', 'destination_uris': ['https://drive.google.com/#folders/1AXwiaN7PuGTt8m7IjU3Dwib8sw7x_ZR2'], 'attempt': 1, 'batch_eecu_usage_seconds': 50.58161544799805, 'id': 'T4FFG6SL5QFGQT6M2ZG4L4LY', 'name': 'projects/earthengine-legacy/operations/T4FFG6SL5QFGQT6M2ZG4L4LY'}\n",
            "{'state': 'COMPLETED', 'description': 'Cotton_2001-01-01_python_crop', 'creation_timestamp_ms': 1664330995633, 'update_timestamp_ms': 1664332055339, 'start_timestamp_ms': 1664331949858, 'task_type': 'EXPORT_FEATURES', 'destination_uris': ['https://drive.google.com/#folders/1AXwiaN7PuGTt8m7IjU3Dwib8sw7x_ZR2'], 'attempt': 1, 'batch_eecu_usage_seconds': 46.62699890136719, 'id': 'Z3GCZJRW2LACMP6KY34DHQTV', 'name': 'projects/earthengine-legacy/operations/Z3GCZJRW2LACMP6KY34DHQTV'}\n",
            "{'state': 'COMPLETED', 'description': 'Cotton_2002-01-01_python_crop', 'creation_timestamp_ms': 1664330995978, 'update_timestamp_ms': 1664332045642, 'start_timestamp_ms': 1664331962966, 'task_type': 'EXPORT_FEATURES', 'destination_uris': ['https://drive.google.com/#folders/1AXwiaN7PuGTt8m7IjU3Dwib8sw7x_ZR2'], 'attempt': 1, 'batch_eecu_usage_seconds': 35.2923469543457, 'id': '6J3VGHM654OUYSMO6KAICURI', 'name': 'projects/earthengine-legacy/operations/6J3VGHM654OUYSMO6KAICURI'}\n",
            "{'state': 'COMPLETED', 'description': 'Cotton_2003-01-01_python_crop', 'creation_timestamp_ms': 1664330996294, 'update_timestamp_ms': 1664332171597, 'start_timestamp_ms': 1664332054931, 'task_type': 'EXPORT_FEATURES', 'destination_uris': ['https://drive.google.com/#folders/1AXwiaN7PuGTt8m7IjU3Dwib8sw7x_ZR2'], 'attempt': 1, 'batch_eecu_usage_seconds': 53.335662841796875, 'id': 'ZRMRKIHQSX5E635XLXU4N35M', 'name': 'projects/earthengine-legacy/operations/ZRMRKIHQSX5E635XLXU4N35M'}\n",
            "{'state': 'COMPLETED', 'description': 'Cotton_2004-01-01_python_crop', 'creation_timestamp_ms': 1664330996623, 'update_timestamp_ms': 1664332128519, 'start_timestamp_ms': 1664332057007, 'task_type': 'EXPORT_FEATURES', 'destination_uris': ['https://drive.google.com/#folders/1AXwiaN7PuGTt8m7IjU3Dwib8sw7x_ZR2'], 'attempt': 1, 'batch_eecu_usage_seconds': 30.304306030273438, 'id': '5MWZFUI2HCQ3BC655M7ZKYAJ', 'name': 'projects/earthengine-legacy/operations/5MWZFUI2HCQ3BC655M7ZKYAJ'}\n",
            "{'state': 'COMPLETED', 'description': 'Cotton_2005-01-01_python_crop', 'creation_timestamp_ms': 1664330997004, 'update_timestamp_ms': 1664332170915, 'start_timestamp_ms': 1664332071062, 'task_type': 'EXPORT_FEATURES', 'destination_uris': ['https://drive.google.com/#folders/1AXwiaN7PuGTt8m7IjU3Dwib8sw7x_ZR2'], 'attempt': 1, 'batch_eecu_usage_seconds': 45.1508674621582, 'id': 'IAR2JDS4F2KWPHJSAIJF2CH4', 'name': 'projects/earthengine-legacy/operations/IAR2JDS4F2KWPHJSAIJF2CH4'}\n",
            "{'state': 'COMPLETED', 'description': 'Cotton_2006-01-01_python_crop', 'creation_timestamp_ms': 1664330997343, 'update_timestamp_ms': 1664332234626, 'start_timestamp_ms': 1664332135579, 'task_type': 'EXPORT_FEATURES', 'destination_uris': ['https://drive.google.com/#folders/1AXwiaN7PuGTt8m7IjU3Dwib8sw7x_ZR2'], 'attempt': 1, 'batch_eecu_usage_seconds': 39.230140686035156, 'id': 'EP2X4MWT3K2CLA5IHHAZZ4E6', 'name': 'projects/earthengine-legacy/operations/EP2X4MWT3K2CLA5IHHAZZ4E6'}\n",
            "{'state': 'COMPLETED', 'description': 'Cotton_2007-01-01_python_crop', 'creation_timestamp_ms': 1664330997621, 'update_timestamp_ms': 1664332266999, 'start_timestamp_ms': 1664332185484, 'task_type': 'EXPORT_FEATURES', 'destination_uris': ['https://drive.google.com/#folders/1AXwiaN7PuGTt8m7IjU3Dwib8sw7x_ZR2'], 'attempt': 1, 'batch_eecu_usage_seconds': 34.876976013183594, 'id': 'OHYZRRVKHAFXERRPJAOR5XLV', 'name': 'projects/earthengine-legacy/operations/OHYZRRVKHAFXERRPJAOR5XLV'}\n",
            "{'state': 'COMPLETED', 'description': 'Cotton_2008-01-01_python_crop', 'creation_timestamp_ms': 1664330997938, 'update_timestamp_ms': 1664332285690, 'start_timestamp_ms': 1664332188845, 'task_type': 'EXPORT_FEATURES', 'destination_uris': ['https://drive.google.com/#folders/1AXwiaN7PuGTt8m7IjU3Dwib8sw7x_ZR2'], 'attempt': 1, 'batch_eecu_usage_seconds': 37.827491760253906, 'id': 'HKES7LULD3IE7XQ3ARHNHWSB', 'name': 'projects/earthengine-legacy/operations/HKES7LULD3IE7XQ3ARHNHWSB'}\n",
            "{'state': 'COMPLETED', 'description': 'Cotton_2009-01-01_python_crop', 'creation_timestamp_ms': 1664330998235, 'update_timestamp_ms': 1664332340866, 'start_timestamp_ms': 1664332249745, 'task_type': 'EXPORT_FEATURES', 'destination_uris': ['https://drive.google.com/#folders/1AXwiaN7PuGTt8m7IjU3Dwib8sw7x_ZR2'], 'attempt': 1, 'batch_eecu_usage_seconds': 38.11420822143555, 'id': 'GF7YFZSLTNPJB4RLAXIVJUBV', 'name': 'projects/earthengine-legacy/operations/GF7YFZSLTNPJB4RLAXIVJUBV'}\n",
            "{'state': 'COMPLETED', 'description': 'Cotton_2010-01-01_python_crop', 'creation_timestamp_ms': 1664330998510, 'update_timestamp_ms': 1664332673880, 'start_timestamp_ms': 1664332593723, 'task_type': 'EXPORT_FEATURES', 'destination_uris': ['https://drive.google.com/#folders/1AXwiaN7PuGTt8m7IjU3Dwib8sw7x_ZR2'], 'attempt': 2, 'batch_eecu_usage_seconds': 35.664581298828125, 'id': '7BRJOK6G6JXRVTHO6QAOC3WV', 'name': 'projects/earthengine-legacy/operations/7BRJOK6G6JXRVTHO6QAOC3WV'}\n",
            "{'state': 'COMPLETED', 'description': 'Cotton_2011-01-01_python_crop', 'creation_timestamp_ms': 1664330998776, 'update_timestamp_ms': 1664332406980, 'start_timestamp_ms': 1664332306184, 'task_type': 'EXPORT_FEATURES', 'destination_uris': ['https://drive.google.com/#folders/1AXwiaN7PuGTt8m7IjU3Dwib8sw7x_ZR2'], 'attempt': 1, 'batch_eecu_usage_seconds': 46.22724533081055, 'id': 'CIXAERWJLLDOV2SGNBENFTFO', 'name': 'projects/earthengine-legacy/operations/CIXAERWJLLDOV2SGNBENFTFO'}\n",
            "{'state': 'COMPLETED', 'description': 'Cotton_2012-01-01_python_crop', 'creation_timestamp_ms': 1664330999033, 'update_timestamp_ms': 1664332461346, 'start_timestamp_ms': 1664332360642, 'task_type': 'EXPORT_FEATURES', 'destination_uris': ['https://drive.google.com/#folders/1AXwiaN7PuGTt8m7IjU3Dwib8sw7x_ZR2'], 'attempt': 1, 'batch_eecu_usage_seconds': 40.733863830566406, 'id': 'KEVWBUFN4O2SEKM3346A4I6Q', 'name': 'projects/earthengine-legacy/operations/KEVWBUFN4O2SEKM3346A4I6Q'}\n",
            "{'state': 'COMPLETED', 'description': 'Cotton_2013-01-01_python_crop', 'creation_timestamp_ms': 1664330999306, 'update_timestamp_ms': 1664332540248, 'start_timestamp_ms': 1664332458026, 'task_type': 'EXPORT_FEATURES', 'destination_uris': ['https://drive.google.com/#folders/1AXwiaN7PuGTt8m7IjU3Dwib8sw7x_ZR2'], 'attempt': 1, 'batch_eecu_usage_seconds': 36.16828155517578, 'id': 'EMVB2R55PWXDDPE52CFVEWTT', 'name': 'projects/earthengine-legacy/operations/EMVB2R55PWXDDPE52CFVEWTT'}\n",
            "{'state': 'COMPLETED', 'description': 'Cotton_2014-01-01_python_crop', 'creation_timestamp_ms': 1664330999599, 'update_timestamp_ms': 1664332586584, 'start_timestamp_ms': 1664332473818, 'task_type': 'EXPORT_FEATURES', 'destination_uris': ['https://drive.google.com/#folders/1AXwiaN7PuGTt8m7IjU3Dwib8sw7x_ZR2'], 'attempt': 1, 'batch_eecu_usage_seconds': 45.157161712646484, 'id': 'A4AMLGUTNH3MVBYMPYU4T5VW', 'name': 'projects/earthengine-legacy/operations/A4AMLGUTNH3MVBYMPYU4T5VW'}\n",
            "{'state': 'COMPLETED', 'description': 'Cotton_2015-01-01_python_crop', 'creation_timestamp_ms': 1664330999900, 'update_timestamp_ms': 1664332671549, 'start_timestamp_ms': 1664332555086, 'task_type': 'EXPORT_FEATURES', 'destination_uris': ['https://drive.google.com/#folders/1AXwiaN7PuGTt8m7IjU3Dwib8sw7x_ZR2'], 'attempt': 1, 'batch_eecu_usage_seconds': 52.61692810058594, 'id': 'UIMFOMHTBIRIFM4THZ5M74YZ', 'name': 'projects/earthengine-legacy/operations/UIMFOMHTBIRIFM4THZ5M74YZ'}\n",
            "{'state': 'COMPLETED', 'description': 'Cotton_2016-01-01_python_crop', 'creation_timestamp_ms': 1664331000201, 'update_timestamp_ms': 1664332694933, 'start_timestamp_ms': 1664332596020, 'task_type': 'EXPORT_FEATURES', 'destination_uris': ['https://drive.google.com/#folders/1AXwiaN7PuGTt8m7IjU3Dwib8sw7x_ZR2'], 'attempt': 1, 'batch_eecu_usage_seconds': 40.00563049316406, 'id': 'YSLVGTREQPNBIMY7ZVPNPZ3U', 'name': 'projects/earthengine-legacy/operations/YSLVGTREQPNBIMY7ZVPNPZ3U'}\n",
            "{'state': 'COMPLETED', 'description': 'Cotton_2017-01-01_python_crop', 'creation_timestamp_ms': 1664331000491, 'update_timestamp_ms': 1664332794204, 'start_timestamp_ms': 1664332685367, 'task_type': 'EXPORT_FEATURES', 'destination_uris': ['https://drive.google.com/#folders/1AXwiaN7PuGTt8m7IjU3Dwib8sw7x_ZR2'], 'attempt': 1, 'batch_eecu_usage_seconds': 52.7572021484375, 'id': '4BVEZS5ELF5WAKYQ5YW7A7VG', 'name': 'projects/earthengine-legacy/operations/4BVEZS5ELF5WAKYQ5YW7A7VG'}\n",
            "{'state': 'COMPLETED', 'description': 'Cotton_2018-01-01_python_crop', 'creation_timestamp_ms': 1664331000762, 'update_timestamp_ms': 1664332774580, 'start_timestamp_ms': 1664332688589, 'task_type': 'EXPORT_FEATURES', 'destination_uris': ['https://drive.google.com/#folders/1AXwiaN7PuGTt8m7IjU3Dwib8sw7x_ZR2'], 'attempt': 1, 'batch_eecu_usage_seconds': 35.340213775634766, 'id': 'LMLFYCLJUMSQMO32XILG426K', 'name': 'projects/earthengine-legacy/operations/LMLFYCLJUMSQMO32XILG426K'}\n",
            "{'state': 'COMPLETED', 'description': 'Cotton_2019-01-01_python_crop', 'creation_timestamp_ms': 1664331001056, 'update_timestamp_ms': 1664332784116, 'start_timestamp_ms': 1664332703312, 'task_type': 'EXPORT_FEATURES', 'destination_uris': ['https://drive.google.com/#folders/1AXwiaN7PuGTt8m7IjU3Dwib8sw7x_ZR2'], 'attempt': 1, 'batch_eecu_usage_seconds': 34.81465148925781, 'id': 'AFI5ARK4E6RVYDIOOVPO3D5Q', 'name': 'projects/earthengine-legacy/operations/AFI5ARK4E6RVYDIOOVPO3D5Q'}\n",
            "{'state': 'COMPLETED', 'description': 'Cotton_2020-01-01_python_crop', 'creation_timestamp_ms': 1664331001349, 'update_timestamp_ms': 1664332878958, 'start_timestamp_ms': 1664332803083, 'task_type': 'EXPORT_FEATURES', 'destination_uris': ['https://drive.google.com/#folders/1AXwiaN7PuGTt8m7IjU3Dwib8sw7x_ZR2'], 'attempt': 1, 'batch_eecu_usage_seconds': 34.1421012878418, 'id': 'KREZGTPFQ4QKSP6KUG2JRJXO', 'name': 'projects/earthengine-legacy/operations/KREZGTPFQ4QKSP6KUG2JRJXO'}\n",
            "{'state': 'COMPLETED', 'description': 'Cotton_2021-01-01_python_crop', 'creation_timestamp_ms': 1664331001661, 'update_timestamp_ms': 1664332900331, 'start_timestamp_ms': 1664332807016, 'task_type': 'EXPORT_FEATURES', 'destination_uris': ['https://drive.google.com/#folders/1AXwiaN7PuGTt8m7IjU3Dwib8sw7x_ZR2'], 'attempt': 1, 'batch_eecu_usage_seconds': 39.96109390258789, 'id': 'YSJ7V23JBXNJ5BXCJE7JBV5Z', 'name': 'projects/earthengine-legacy/operations/YSJ7V23JBXNJ5BXCJE7JBV5Z'}\n",
            "{'state': 'COMPLETED', 'description': 'Soybeans_2001-01-01_python_crop', 'creation_timestamp_ms': 1664331001985, 'update_timestamp_ms': 1664333024066, 'start_timestamp_ms': 1664332823986, 'task_type': 'EXPORT_FEATURES', 'destination_uris': ['https://drive.google.com/#folders/1AXwiaN7PuGTt8m7IjU3Dwib8sw7x_ZR2'], 'attempt': 1, 'batch_eecu_usage_seconds': 10169.3291015625, 'id': 'NG53E7AWWIWASWNZM5EFE7UC', 'name': 'projects/earthengine-legacy/operations/NG53E7AWWIWASWNZM5EFE7UC'}\n",
            "{'state': 'COMPLETED', 'description': 'Soybeans_2002-01-01_python_crop', 'creation_timestamp_ms': 1664331002357, 'update_timestamp_ms': 1664333279086, 'start_timestamp_ms': 1664332902784, 'task_type': 'EXPORT_FEATURES', 'destination_uris': ['https://drive.google.com/#folders/1AXwiaN7PuGTt8m7IjU3Dwib8sw7x_ZR2'], 'attempt': 1, 'batch_eecu_usage_seconds': 16350.388671875, 'id': 'EQMPROPLYQV7SR4E4SVM5UPE', 'name': 'projects/earthengine-legacy/operations/EQMPROPLYQV7SR4E4SVM5UPE'}\n",
            "{'state': 'COMPLETED', 'description': 'Soybeans_2003-01-01_python_crop', 'creation_timestamp_ms': 1664331002659, 'update_timestamp_ms': 1664333113695, 'start_timestamp_ms': 1664332918638, 'task_type': 'EXPORT_FEATURES', 'destination_uris': ['https://drive.google.com/#folders/1AXwiaN7PuGTt8m7IjU3Dwib8sw7x_ZR2'], 'attempt': 1, 'batch_eecu_usage_seconds': 10666.318359375, 'id': 'O7VHW6OTIXSYVMECGQZYY3UJ', 'name': 'projects/earthengine-legacy/operations/O7VHW6OTIXSYVMECGQZYY3UJ'}\n",
            "{'state': 'COMPLETED', 'description': 'Soybeans_2004-01-01_python_crop', 'creation_timestamp_ms': 1664331002935, 'update_timestamp_ms': 1664333447324, 'start_timestamp_ms': 1664333059453, 'task_type': 'EXPORT_FEATURES', 'destination_uris': ['https://drive.google.com/#folders/1AXwiaN7PuGTt8m7IjU3Dwib8sw7x_ZR2'], 'attempt': 1, 'batch_eecu_usage_seconds': 14537.6435546875, 'id': 'VNGP77W4JDZESY67ZQHBFP2M', 'name': 'projects/earthengine-legacy/operations/VNGP77W4JDZESY67ZQHBFP2M'}\n",
            "{'state': 'COMPLETED', 'description': 'Soybeans_2005-01-01_python_crop', 'creation_timestamp_ms': 1664331003217, 'update_timestamp_ms': 1664333451103, 'start_timestamp_ms': 1664333144399, 'task_type': 'EXPORT_FEATURES', 'destination_uris': ['https://drive.google.com/#folders/1AXwiaN7PuGTt8m7IjU3Dwib8sw7x_ZR2'], 'attempt': 1, 'batch_eecu_usage_seconds': 18535.25390625, 'id': '3ELKXQWOQ2BVHJQZQCAG2P22', 'name': 'projects/earthengine-legacy/operations/3ELKXQWOQ2BVHJQZQCAG2P22'}\n",
            "{'state': 'COMPLETED', 'description': 'Soybeans_2006-01-01_python_crop', 'creation_timestamp_ms': 1664331003503, 'update_timestamp_ms': 1664333642988, 'start_timestamp_ms': 1664333300563, 'task_type': 'EXPORT_FEATURES', 'destination_uris': ['https://drive.google.com/#folders/1AXwiaN7PuGTt8m7IjU3Dwib8sw7x_ZR2'], 'attempt': 1, 'batch_eecu_usage_seconds': 23916.2265625, 'id': 'KHFD22NZQIPQZQFPEZCCZPBD', 'name': 'projects/earthengine-legacy/operations/KHFD22NZQIPQZQFPEZCCZPBD'}\n",
            "{'state': 'COMPLETED', 'description': 'Soybeans_2007-01-01_python_crop', 'creation_timestamp_ms': 1664331003827, 'update_timestamp_ms': 1664333879718, 'start_timestamp_ms': 1664333465952, 'task_type': 'EXPORT_FEATURES', 'destination_uris': ['https://drive.google.com/#folders/1AXwiaN7PuGTt8m7IjU3Dwib8sw7x_ZR2'], 'attempt': 1, 'batch_eecu_usage_seconds': 27836.447265625, 'id': 'YAAT3CEZYSET7HFJFET5S4OS', 'name': 'projects/earthengine-legacy/operations/YAAT3CEZYSET7HFJFET5S4OS'}\n",
            "{'state': 'COMPLETED', 'description': 'Soybeans_2008-01-01_python_crop', 'creation_timestamp_ms': 1664331004149, 'update_timestamp_ms': 1664333885711, 'start_timestamp_ms': 1664333468184, 'task_type': 'EXPORT_FEATURES', 'destination_uris': ['https://drive.google.com/#folders/1AXwiaN7PuGTt8m7IjU3Dwib8sw7x_ZR2'], 'attempt': 1, 'batch_eecu_usage_seconds': 31986.7890625, 'id': '4WMBCSBYDIS2AL73RCXBLSPQ', 'name': 'projects/earthengine-legacy/operations/4WMBCSBYDIS2AL73RCXBLSPQ'}\n",
            "{'state': 'COMPLETED', 'description': 'Soybeans_2009-01-01_python_crop', 'creation_timestamp_ms': 1664331004461, 'update_timestamp_ms': 1664334091327, 'start_timestamp_ms': 1664333691078, 'task_type': 'EXPORT_FEATURES', 'destination_uris': ['https://drive.google.com/#folders/1AXwiaN7PuGTt8m7IjU3Dwib8sw7x_ZR2'], 'attempt': 1, 'batch_eecu_usage_seconds': 30528.20703125, 'id': '7CPHQUGBM5LFZNJYP2L2O7EH', 'name': 'projects/earthengine-legacy/operations/7CPHQUGBM5LFZNJYP2L2O7EH'}\n",
            "{'state': 'RUNNING', 'description': 'Soybeans_2010-01-01_python_crop', 'creation_timestamp_ms': 1664331004785, 'update_timestamp_ms': 1664334206460, 'start_timestamp_ms': 1664333906440, 'task_type': 'EXPORT_FEATURES', 'attempt': 1, 'id': 'K3WYQ5C6FKJ6B2BQUIUZUEOR', 'name': 'projects/earthengine-legacy/operations/K3WYQ5C6FKJ6B2BQUIUZUEOR'}\n",
            "{'state': 'RUNNING', 'description': 'Soybeans_2011-01-01_python_crop', 'creation_timestamp_ms': 1664331005063, 'update_timestamp_ms': 1664334209721, 'start_timestamp_ms': 1664333909702, 'task_type': 'EXPORT_FEATURES', 'attempt': 1, 'id': 'MTQEZYNDGCV4UWDUQXQWHWMW', 'name': 'projects/earthengine-legacy/operations/MTQEZYNDGCV4UWDUQXQWHWMW'}\n",
            "{'state': 'RUNNING', 'description': 'Soybeans_2012-01-01_python_crop', 'creation_timestamp_ms': 1664331005382, 'update_timestamp_ms': 1664334118173, 'start_timestamp_ms': 1664334118130, 'task_type': 'EXPORT_FEATURES', 'attempt': 1, 'id': 'BVLHDZPHZJB3LQKZFRJHBRUI', 'name': 'projects/earthengine-legacy/operations/BVLHDZPHZJB3LQKZFRJHBRUI'}\n",
            "{'state': 'READY', 'description': 'Soybeans_2013-01-01_python_crop', 'creation_timestamp_ms': 1664331005674, 'update_timestamp_ms': 1664331005674, 'start_timestamp_ms': 0, 'task_type': 'EXPORT_FEATURES', 'id': 'CE557C4A2N465T2H5DMYNU7I', 'name': 'projects/earthengine-legacy/operations/CE557C4A2N465T2H5DMYNU7I'}\n",
            "{'state': 'READY', 'description': 'Soybeans_2014-01-01_python_crop', 'creation_timestamp_ms': 1664331005976, 'update_timestamp_ms': 1664331005976, 'start_timestamp_ms': 0, 'task_type': 'EXPORT_FEATURES', 'id': '2MTLRI4UWKMXGRTJGAUROYYS', 'name': 'projects/earthengine-legacy/operations/2MTLRI4UWKMXGRTJGAUROYYS'}\n",
            "{'state': 'READY', 'description': 'Soybeans_2015-01-01_python_crop', 'creation_timestamp_ms': 1664331006259, 'update_timestamp_ms': 1664331006259, 'start_timestamp_ms': 0, 'task_type': 'EXPORT_FEATURES', 'id': '7T5BBHVGCQJPTTODFZX2LISX', 'name': 'projects/earthengine-legacy/operations/7T5BBHVGCQJPTTODFZX2LISX'}\n",
            "{'state': 'READY', 'description': 'Soybeans_2016-01-01_python_crop', 'creation_timestamp_ms': 1664331006582, 'update_timestamp_ms': 1664331006582, 'start_timestamp_ms': 0, 'task_type': 'EXPORT_FEATURES', 'id': 'ZDUDEDYULN37XX25DMOWQE7A', 'name': 'projects/earthengine-legacy/operations/ZDUDEDYULN37XX25DMOWQE7A'}\n",
            "{'state': 'READY', 'description': 'Soybeans_2017-01-01_python_crop', 'creation_timestamp_ms': 1664331006872, 'update_timestamp_ms': 1664331006872, 'start_timestamp_ms': 0, 'task_type': 'EXPORT_FEATURES', 'id': 'AVBMU7OMLSMGPBFUERRZ3NOS', 'name': 'projects/earthengine-legacy/operations/AVBMU7OMLSMGPBFUERRZ3NOS'}\n",
            "{'state': 'READY', 'description': 'Soybeans_2018-01-01_python_crop', 'creation_timestamp_ms': 1664331007197, 'update_timestamp_ms': 1664331007197, 'start_timestamp_ms': 0, 'task_type': 'EXPORT_FEATURES', 'id': 'GYYIMGNW6Z3JWRFUPA6C5SEQ', 'name': 'projects/earthengine-legacy/operations/GYYIMGNW6Z3JWRFUPA6C5SEQ'}\n",
            "{'state': 'READY', 'description': 'Soybeans_2019-01-01_python_crop', 'creation_timestamp_ms': 1664331007492, 'update_timestamp_ms': 1664331007492, 'start_timestamp_ms': 0, 'task_type': 'EXPORT_FEATURES', 'id': 'H6WTZ3IWYIU67IEMDMX6J5FZ', 'name': 'projects/earthengine-legacy/operations/H6WTZ3IWYIU67IEMDMX6J5FZ'}\n",
            "{'state': 'READY', 'description': 'Soybeans_2020-01-01_python_crop', 'creation_timestamp_ms': 1664331007869, 'update_timestamp_ms': 1664331007869, 'start_timestamp_ms': 0, 'task_type': 'EXPORT_FEATURES', 'id': 'JKKSMWUT52GP4NFHDILKGSCN', 'name': 'projects/earthengine-legacy/operations/JKKSMWUT52GP4NFHDILKGSCN'}\n",
            "{'state': 'READY', 'description': 'Soybeans_2021-01-01_python_crop', 'creation_timestamp_ms': 1664331008149, 'update_timestamp_ms': 1664331008149, 'start_timestamp_ms': 0, 'task_type': 'EXPORT_FEATURES', 'id': 'O724MCNALTHQSMHGGB7CO7PD', 'name': 'projects/earthengine-legacy/operations/O724MCNALTHQSMHGGB7CO7PD'}\n"
          ]
        }
      ]
    },
    {
      "cell_type": "code",
      "source": [
        "from google.colab import drive\n",
        "\n",
        "drive.mount('/content/gdrive/', force_remount=True)\n",
        "\n"
      ],
      "metadata": {
        "id": "zCLnvGBh_bnz",
        "outputId": "c78e3b11-a6cc-4bf3-9b71-5005a1437f36",
        "colab": {
          "base_uri": "https://localhost:8080/"
        }
      },
      "execution_count": 3,
      "outputs": [
        {
          "output_type": "stream",
          "name": "stdout",
          "text": [
            "Mounted at /content/gdrive/\n"
          ]
        }
      ]
    },
    {
      "cell_type": "code",
      "source": [
        "\n",
        "pathlist = Path(f\"gdrive/MyDrive/{g_drive_folder}\").glob('*.csv')\n",
        "\n",
        "rows_list = []\n",
        "\n",
        "for file in pathlist:\n",
        "    headers = []\n",
        "    for line in open(file, 'r'):\n",
        "        \n",
        "        if len(headers) == 0:\n",
        "            headers = line.strip().split(\",\")\n",
        "        else:\n",
        "            temp_dict = {}\n",
        "            fields = line.strip().split(\",\")\n",
        "            for header, cell in zip(headers, fields):\n",
        "                if header != \"system:index\" and header != \".geo\":\n",
        "                    temp_dict[header] = cell\n",
        "            rows_list.append(temp_dict)\n",
        "\n",
        "df = pd.DataFrame(rows_list)\n",
        "\n",
        "df.head()"
      ],
      "metadata": {
        "id": "0TI6B815qBXQ",
        "outputId": "2292c7c0-fd02-407d-e08f-9bd3a4291e20",
        "colab": {
          "base_uri": "https://localhost:8080/",
          "height": 206
        }
      },
      "execution_count": 4,
      "outputs": [
        {
          "output_type": "execute_result",
          "data": {
            "text/plain": [
              "                 area  crop        time\n",
              "0   123435.9264319311  Corn  2001-01-01\n",
              "1  172110.26377786134  Corn  2002-01-01\n",
              "2  158982.91259667915  Corn  2003-01-01\n",
              "3  170490.11507316557  Corn  2004-01-01\n",
              "4   161194.0117625632  Corn  2005-01-01"
            ],
            "text/html": [
              "\n",
              "  <div id=\"df-a9e60131-f8ca-4d07-b805-53cfe27e214e\">\n",
              "    <div class=\"colab-df-container\">\n",
              "      <div>\n",
              "<style scoped>\n",
              "    .dataframe tbody tr th:only-of-type {\n",
              "        vertical-align: middle;\n",
              "    }\n",
              "\n",
              "    .dataframe tbody tr th {\n",
              "        vertical-align: top;\n",
              "    }\n",
              "\n",
              "    .dataframe thead th {\n",
              "        text-align: right;\n",
              "    }\n",
              "</style>\n",
              "<table border=\"1\" class=\"dataframe\">\n",
              "  <thead>\n",
              "    <tr style=\"text-align: right;\">\n",
              "      <th></th>\n",
              "      <th>area</th>\n",
              "      <th>crop</th>\n",
              "      <th>time</th>\n",
              "    </tr>\n",
              "  </thead>\n",
              "  <tbody>\n",
              "    <tr>\n",
              "      <th>0</th>\n",
              "      <td>123435.9264319311</td>\n",
              "      <td>Corn</td>\n",
              "      <td>2001-01-01</td>\n",
              "    </tr>\n",
              "    <tr>\n",
              "      <th>1</th>\n",
              "      <td>172110.26377786134</td>\n",
              "      <td>Corn</td>\n",
              "      <td>2002-01-01</td>\n",
              "    </tr>\n",
              "    <tr>\n",
              "      <th>2</th>\n",
              "      <td>158982.91259667915</td>\n",
              "      <td>Corn</td>\n",
              "      <td>2003-01-01</td>\n",
              "    </tr>\n",
              "    <tr>\n",
              "      <th>3</th>\n",
              "      <td>170490.11507316557</td>\n",
              "      <td>Corn</td>\n",
              "      <td>2004-01-01</td>\n",
              "    </tr>\n",
              "    <tr>\n",
              "      <th>4</th>\n",
              "      <td>161194.0117625632</td>\n",
              "      <td>Corn</td>\n",
              "      <td>2005-01-01</td>\n",
              "    </tr>\n",
              "  </tbody>\n",
              "</table>\n",
              "</div>\n",
              "      <button class=\"colab-df-convert\" onclick=\"convertToInteractive('df-a9e60131-f8ca-4d07-b805-53cfe27e214e')\"\n",
              "              title=\"Convert this dataframe to an interactive table.\"\n",
              "              style=\"display:none;\">\n",
              "        \n",
              "  <svg xmlns=\"http://www.w3.org/2000/svg\" height=\"24px\"viewBox=\"0 0 24 24\"\n",
              "       width=\"24px\">\n",
              "    <path d=\"M0 0h24v24H0V0z\" fill=\"none\"/>\n",
              "    <path d=\"M18.56 5.44l.94 2.06.94-2.06 2.06-.94-2.06-.94-.94-2.06-.94 2.06-2.06.94zm-11 1L8.5 8.5l.94-2.06 2.06-.94-2.06-.94L8.5 2.5l-.94 2.06-2.06.94zm10 10l.94 2.06.94-2.06 2.06-.94-2.06-.94-.94-2.06-.94 2.06-2.06.94z\"/><path d=\"M17.41 7.96l-1.37-1.37c-.4-.4-.92-.59-1.43-.59-.52 0-1.04.2-1.43.59L10.3 9.45l-7.72 7.72c-.78.78-.78 2.05 0 2.83L4 21.41c.39.39.9.59 1.41.59.51 0 1.02-.2 1.41-.59l7.78-7.78 2.81-2.81c.8-.78.8-2.07 0-2.86zM5.41 20L4 18.59l7.72-7.72 1.47 1.35L5.41 20z\"/>\n",
              "  </svg>\n",
              "      </button>\n",
              "      \n",
              "  <style>\n",
              "    .colab-df-container {\n",
              "      display:flex;\n",
              "      flex-wrap:wrap;\n",
              "      gap: 12px;\n",
              "    }\n",
              "\n",
              "    .colab-df-convert {\n",
              "      background-color: #E8F0FE;\n",
              "      border: none;\n",
              "      border-radius: 50%;\n",
              "      cursor: pointer;\n",
              "      display: none;\n",
              "      fill: #1967D2;\n",
              "      height: 32px;\n",
              "      padding: 0 0 0 0;\n",
              "      width: 32px;\n",
              "    }\n",
              "\n",
              "    .colab-df-convert:hover {\n",
              "      background-color: #E2EBFA;\n",
              "      box-shadow: 0px 1px 2px rgba(60, 64, 67, 0.3), 0px 1px 3px 1px rgba(60, 64, 67, 0.15);\n",
              "      fill: #174EA6;\n",
              "    }\n",
              "\n",
              "    [theme=dark] .colab-df-convert {\n",
              "      background-color: #3B4455;\n",
              "      fill: #D2E3FC;\n",
              "    }\n",
              "\n",
              "    [theme=dark] .colab-df-convert:hover {\n",
              "      background-color: #434B5C;\n",
              "      box-shadow: 0px 1px 3px 1px rgba(0, 0, 0, 0.15);\n",
              "      filter: drop-shadow(0px 1px 2px rgba(0, 0, 0, 0.3));\n",
              "      fill: #FFFFFF;\n",
              "    }\n",
              "  </style>\n",
              "\n",
              "      <script>\n",
              "        const buttonEl =\n",
              "          document.querySelector('#df-a9e60131-f8ca-4d07-b805-53cfe27e214e button.colab-df-convert');\n",
              "        buttonEl.style.display =\n",
              "          google.colab.kernel.accessAllowed ? 'block' : 'none';\n",
              "\n",
              "        async function convertToInteractive(key) {\n",
              "          const element = document.querySelector('#df-a9e60131-f8ca-4d07-b805-53cfe27e214e');\n",
              "          const dataTable =\n",
              "            await google.colab.kernel.invokeFunction('convertToInteractive',\n",
              "                                                     [key], {});\n",
              "          if (!dataTable) return;\n",
              "\n",
              "          const docLinkHtml = 'Like what you see? Visit the ' +\n",
              "            '<a target=\"_blank\" href=https://colab.research.google.com/notebooks/data_table.ipynb>data table notebook</a>'\n",
              "            + ' to learn more about interactive tables.';\n",
              "          element.innerHTML = '';\n",
              "          dataTable['output_type'] = 'display_data';\n",
              "          await google.colab.output.renderOutput(dataTable, element);\n",
              "          const docLink = document.createElement('div');\n",
              "          docLink.innerHTML = docLinkHtml;\n",
              "          element.appendChild(docLink);\n",
              "        }\n",
              "      </script>\n",
              "    </div>\n",
              "  </div>\n",
              "  "
            ]
          },
          "metadata": {},
          "execution_count": 4
        }
      ]
    },
    {
      "cell_type": "code",
      "source": [
        "df[\"time\"] = pd.to_datetime(df[\"time\"], format='%Y-%m-%d')\n",
        "df.sort_values(['crop', 'time'], inplace=True)\n",
        "df.to_csv(\"crop_area.tsv\", sep=\"\\t\", index=False)"
      ],
      "metadata": {
        "id": "5oSalxQ6ucyr"
      },
      "execution_count": 11,
      "outputs": []
    },
    {
      "cell_type": "code",
      "source": [],
      "metadata": {
        "id": "97DWIky24BA0"
      },
      "execution_count": null,
      "outputs": []
    }
  ]
}